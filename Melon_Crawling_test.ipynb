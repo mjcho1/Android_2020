{
  "nbformat": 4,
  "nbformat_minor": 0,
  "metadata": {
    "colab": {
      "name": "Melon_Crawling_test.ipynb",
      "provenance": [],
      "authorship_tag": "ABX9TyMGgQc3aHZR6BgDqMoUXi/i",
      "include_colab_link": true
    },
    "kernelspec": {
      "name": "python3",
      "display_name": "Python 3"
    }
  },
  "cells": [
    {
      "cell_type": "markdown",
      "metadata": {
        "id": "view-in-github",
        "colab_type": "text"
      },
      "source": [
        "<a href=\"https://colab.research.google.com/github/mjcho1/Sample_python/blob/master/Melon_Crawling_test.ipynb\" target=\"_parent\"><img src=\"https://colab.research.google.com/assets/colab-badge.svg\" alt=\"Open In Colab\"/></a>"
      ]
    },
    {
      "cell_type": "code",
      "metadata": {
        "id": "T5EEsxjmkmwy",
        "colab_type": "code",
        "colab": {}
      },
      "source": [
        "import requests\n",
        "from bs4 import BeautifulSoup\n",
        " \n",
        "f = open(\"crawl_data.txt\", 'w', -1, \"utf-8\")        # utf-8 속성이 있어야 파일 쓸 때 인코딩 에러 x\n",
        "header = {'User-Agent': 'Mozilla/5.0 (Windows NT 6.3; Trident/7.0; rv:11.0) like Gecko'}    # 멜론 사이트는 헤더 값이 있어야 함\n",
        "url = 'https://www.melon.com/chart/index.htm'\n",
        " \n",
        "code = requests.get(url, headers = header).text     # 크롤링할 페이지의 모든 태그를 가져옴\n",
        "soup = BeautifulSoup(code,'html.parser')            # html 파일을 가져옴\n",
        "title = soup.find_all(\"div\", {\"class\":\"ellipsis rank01\"})       # 노래 제목의 정보는 div 태그의 ellipsis rank01클래스 안에 있음\n",
        "                                                                # find_all함수는 해당 조건에 맞는 모든 태그를 가져옴\n",
        "singer = soup.find_all(\"div\", {\"class\":\"ellipsis rank02\"})      # 가수의 정보는 div 태그의 ellipsis rank02클래스 안에 있음\n",
        " \n",
        "real_title = []\n",
        "real_singer = []\n",
        "\n",
        "for i in title:\n",
        "    real_title.append(i.find('a').text)         # html 태그에서 노래 제목만(a 태그의 텍스트 값)\n",
        "                                                # find함수는 해당 조건에 맞는 하나의 태그만 가져옴. 중복이면 가장 첫 번째 태그\n",
        " \n",
        "for j in singer:\n",
        "    real_singer.append(j.find('a').text)        # html 태그에서 가수만(a 태그의 텍스트 값)\n",
        " \n",
        "for k in range(1,51):   # 차트 순위가 1위~50위\n",
        "    f.write(\"{}.{} - {}\\n\".format(k, real_title[k], real_singer[k]))   # '1(순위).노래제목 -가수'의 형태로 데이터를 저장\n",
        " \n",
        "f.close()"
      ],
      "execution_count": 0,
      "outputs": []
    },
    {
      "cell_type": "code",
      "metadata": {
        "id": "ZCnqT1J8kux3",
        "colab_type": "code",
        "outputId": "d70f4f84-173d-459f-f8a8-8945b617031e",
        "colab": {
          "base_uri": "https://localhost:8080/",
          "height": 34
        }
      },
      "source": [
        "!ls"
      ],
      "execution_count": 0,
      "outputs": [
        {
          "output_type": "stream",
          "text": [
            "crawl_data.txt\tmelon100.csv  sample_data\n"
          ],
          "name": "stdout"
        }
      ]
    },
    {
      "cell_type": "code",
      "metadata": {
        "id": "64OmSW8akzwI",
        "colab_type": "code",
        "outputId": "9ff3f880-8654-45f7-83ea-3c00df2f5d8a",
        "colab": {
          "base_uri": "https://localhost:8080/",
          "height": 867
        }
      },
      "source": [
        "!cat crawl_data.txt"
      ],
      "execution_count": 0,
      "outputs": [
        {
          "output_type": "stream",
          "text": [
            "1.00:00 (Zero O’Clock) - 방탄소년단\n",
            "2.친구 - 방탄소년단\n",
            "3.Filter - 방탄소년단\n",
            "4.Black Swan - 방탄소년단\n",
            "5.시차 - 방탄소년단\n",
            "6.Moon - 방탄소년단\n",
            "7.Louder than bombs - 방탄소년단\n",
            "8.Inner Child - 방탄소년단\n",
            "9.Interlude : Shadow - 방탄소년단\n",
            "10.욱 (UGH!) - 방탄소년단\n",
            "11.We are Bulletproof : the Eternal - 방탄소년단\n",
            "12.Respect - 방탄소년단\n",
            "13.작은 것들을 위한 시 (Boy With Luv) (Feat. Halsey) - 방탄소년단\n",
            "14.Outro : Ego - 방탄소년단\n",
            "15.마음을 드려요 - 아이유\n",
            "16.아무노래 - 지코 (ZICO)\n",
            "17.FIESTA - IZ*ONE (아이즈원)\n",
            "18.어떻게 지내 - 오반\n",
            "19.METEOR - 창모 (CHANGMO)\n",
            "20.너를 사랑하고 있어 - 백현 (BAEKHYUN)\n",
            "21.반만 - 진민호\n",
            "22.시작 - 가호 (Gaho)\n",
            "23.다시 난, 여기 - 백예린\n",
            "24.늦은 밤 너의 집 앞 골목길에서 - 노을\n",
            "25.Psycho - Red Velvet (레드벨벳)\n",
            "26.Blueming - 아이유\n",
            "27.둘만의 세상으로 가 - Crush\n",
            "28.그때 그 아인 - 김필\n",
            "29.너에게 가는 이 길 위에서 (너.이.길) - 백현 (BAEKHYUN)\n",
            "30.어떤 날엔 - 김재환\n",
            "31.흔들리는 꽃들 속에서 네 샴푸향이 느껴진거야 - 장범준\n",
            "32.어떻게 이별까지 사랑하겠어, 널 사랑하는 거지 - AKMU (악동뮤지션)\n",
            "33.오늘도 빛나는 너에게 (To You My Light) (Feat.이라온) - 마크툽 (MAKTUB)\n",
            "34.마음이 말하는 행복 (Happiness) (Feat.이라온) - 마크툽 (MAKTUB)\n",
            "35.우리 왜 헤어져야 해 - 신예영\n",
            "36.미친 소리 - 이예준\n",
            "37.HIP - 마마무 (Mamamoo)\n",
            "38.Love poem - 아이유\n",
            "39.빌었어 - 창모 (CHANGMO)\n",
            "40.아마두 (feat.우원재, 김효은, 넉살, Huckleberry P) - 염따\n",
            "41.사랑이란 멜로는 없어 - 전상근\n",
            "42.돌아와 줘 - 전상근\n",
            "43.조금 취했어 (Prod. 2soo) - 임재현\n",
            "44.Obsession - EXO\n",
            "45.다시 만날까 봐 - V.O.S\n",
            "46.Square (2017) - 백예린\n",
            "47.내 마음의 사진 - 송가인\n",
            "48.Go away go away - 찬열 (CHANYEOL)\n",
            "49.2002 - Anne-Marie\n",
            "50.안녕 - 폴킴\n"
          ],
          "name": "stdout"
        }
      ]
    },
    {
      "cell_type": "code",
      "metadata": {
        "id": "MqEXZ3TmFJ_s",
        "colab_type": "code",
        "colab": {}
      },
      "source": [
        "import urllib.request\n",
        "from bs4 import BeautifulSoup\n",
        "import csv\n",
        "\n",
        "hdr = {'User-Agent' : 'Mozilla/5.0'}\n",
        "url = 'https://www.melon.com/chart/index.htm'\n",
        "\n",
        "req = urllib.request.Request(url, headers = hdr)\n",
        "html = urllib.request.urlopen(req).read()\n",
        "soup = BeautifulSoup(html, 'html.parser')\n",
        "\n",
        "lst50 = soup.select('.lst50, .lst100')\n",
        "\n",
        "melonList = []\n",
        "for i in lst50:\n",
        "  temp = []\n",
        "  temp.append(i.select_one('.rank').text)\n",
        "  temp.append(i.select_one('.ellipsis.rank01').a.text)\n",
        "  temp.append(i.select_one('.ellipsis.rank02').a.text)\n",
        "  temp.append(i.select_one('.ellipsis.rank03').a.text)\n",
        "  melonList.append(temp)\n",
        "\n",
        "# print(melonList[0])\n",
        "with open('melon100.csv', 'w', encoding = 'utf-8', newline = '') as f:\n",
        "  writer = csv.writer(f)\n",
        "  writer.writerow(['순위', '곡명', '아티스트', '앨범'])\n",
        "  writer.writerows(melonList)"
      ],
      "execution_count": 0,
      "outputs": []
    },
    {
      "cell_type": "code",
      "metadata": {
        "id": "aKbb1zUlV6x9",
        "colab_type": "code",
        "outputId": "4449fb27-14fe-46f1-c317-ea2a06f61786",
        "colab": {
          "base_uri": "https://localhost:8080/",
          "height": 34
        }
      },
      "source": [
        "!ls"
      ],
      "execution_count": 0,
      "outputs": [
        {
          "output_type": "stream",
          "text": [
            "crawl_data.txt\tmelon100.csv  sample_data\n"
          ],
          "name": "stdout"
        }
      ]
    },
    {
      "cell_type": "code",
      "metadata": {
        "id": "Zfjn2NMwWAtQ",
        "colab_type": "code",
        "outputId": "ce2ad996-669d-4989-b86e-af9209da5cea",
        "colab": {
          "base_uri": "https://localhost:8080/",
          "height": 521
        }
      },
      "source": [
        "import pandas as pd\n",
        "\n",
        "# melon100 데이터 로드\n",
        "melon100_df = pd.read_csv('melon100.csv')\n",
        "melon100_df"
      ],
      "execution_count": 0,
      "outputs": [
        {
          "output_type": "execute_result",
          "data": {
            "text/html": [
              "<div>\n",
              "<style scoped>\n",
              "    .dataframe tbody tr th:only-of-type {\n",
              "        vertical-align: middle;\n",
              "    }\n",
              "\n",
              "    .dataframe tbody tr th {\n",
              "        vertical-align: top;\n",
              "    }\n",
              "\n",
              "    .dataframe thead th {\n",
              "        text-align: right;\n",
              "    }\n",
              "</style>\n",
              "<table border=\"1\" class=\"dataframe\">\n",
              "  <thead>\n",
              "    <tr style=\"text-align: right;\">\n",
              "      <th></th>\n",
              "      <th>순위</th>\n",
              "      <th>곡명</th>\n",
              "      <th>아티스트</th>\n",
              "      <th>앨범</th>\n",
              "    </tr>\n",
              "  </thead>\n",
              "  <tbody>\n",
              "    <tr>\n",
              "      <th>0</th>\n",
              "      <td>1</td>\n",
              "      <td>ON</td>\n",
              "      <td>방탄소년단</td>\n",
              "      <td>MAP OF THE SOUL : 7</td>\n",
              "    </tr>\n",
              "    <tr>\n",
              "      <th>1</th>\n",
              "      <td>2</td>\n",
              "      <td>00:00 (Zero O’Clock)</td>\n",
              "      <td>방탄소년단</td>\n",
              "      <td>MAP OF THE SOUL : 7</td>\n",
              "    </tr>\n",
              "    <tr>\n",
              "      <th>2</th>\n",
              "      <td>3</td>\n",
              "      <td>친구</td>\n",
              "      <td>방탄소년단</td>\n",
              "      <td>MAP OF THE SOUL : 7</td>\n",
              "    </tr>\n",
              "    <tr>\n",
              "      <th>3</th>\n",
              "      <td>4</td>\n",
              "      <td>Filter</td>\n",
              "      <td>방탄소년단</td>\n",
              "      <td>MAP OF THE SOUL : 7</td>\n",
              "    </tr>\n",
              "    <tr>\n",
              "      <th>4</th>\n",
              "      <td>5</td>\n",
              "      <td>Black Swan</td>\n",
              "      <td>방탄소년단</td>\n",
              "      <td>MAP OF THE SOUL : 7</td>\n",
              "    </tr>\n",
              "    <tr>\n",
              "      <th>...</th>\n",
              "      <td>...</td>\n",
              "      <td>...</td>\n",
              "      <td>...</td>\n",
              "      <td>...</td>\n",
              "    </tr>\n",
              "    <tr>\n",
              "      <th>95</th>\n",
              "      <td>96</td>\n",
              "      <td>그대라는 시</td>\n",
              "      <td>태연 (TAEYEON)</td>\n",
              "      <td>호텔 델루나 OST Part.3</td>\n",
              "    </tr>\n",
              "    <tr>\n",
              "      <th>96</th>\n",
              "      <td>97</td>\n",
              "      <td>돌덩이</td>\n",
              "      <td>하현우 (국카스텐)</td>\n",
              "      <td>이태원 클라쓰 OST Part.3</td>\n",
              "    </tr>\n",
              "    <tr>\n",
              "      <th>97</th>\n",
              "      <td>98</td>\n",
              "      <td>Into the Unknown (From \"Frozen 2\"/Soundtrack V...</td>\n",
              "      <td>Idina Menzel</td>\n",
              "      <td>Frozen 2 (Original Motion Picture Soundtrack/D...</td>\n",
              "    </tr>\n",
              "    <tr>\n",
              "      <th>98</th>\n",
              "      <td>99</td>\n",
              "      <td>Know Me Too Well</td>\n",
              "      <td>New Hope Club</td>\n",
              "      <td>Know Me Too Well</td>\n",
              "    </tr>\n",
              "    <tr>\n",
              "      <th>99</th>\n",
              "      <td>100</td>\n",
              "      <td>언젠가 우리의 밤도 지나가겠죠</td>\n",
              "      <td>IZ*ONE (아이즈원)</td>\n",
              "      <td>BLOOM*IZ</td>\n",
              "    </tr>\n",
              "  </tbody>\n",
              "</table>\n",
              "<p>100 rows × 4 columns</p>\n",
              "</div>"
            ],
            "text/plain": [
              "     순위  ...                                                 앨범\n",
              "0     1  ...                                MAP OF THE SOUL : 7\n",
              "1     2  ...                                MAP OF THE SOUL : 7\n",
              "2     3  ...                                MAP OF THE SOUL : 7\n",
              "3     4  ...                                MAP OF THE SOUL : 7\n",
              "4     5  ...                                MAP OF THE SOUL : 7\n",
              "..  ...  ...                                                ...\n",
              "95   96  ...                                  호텔 델루나 OST Part.3\n",
              "96   97  ...                                 이태원 클라쓰 OST Part.3\n",
              "97   98  ...  Frozen 2 (Original Motion Picture Soundtrack/D...\n",
              "98   99  ...                                   Know Me Too Well\n",
              "99  100  ...                                           BLOOM*IZ\n",
              "\n",
              "[100 rows x 4 columns]"
            ]
          },
          "metadata": {
            "tags": []
          },
          "execution_count": 6
        }
      ]
    },
    {
      "cell_type": "code",
      "metadata": {
        "id": "DxeESThrZkHr",
        "colab_type": "code",
        "outputId": "7111e1a6-d591-4c6a-aaeb-27033c985630",
        "colab": {
          "base_uri": "https://localhost:8080/",
          "height": 34
        }
      },
      "source": [
        "## 데이터 미리보기\n",
        "# shape : 행, 열 정보를 알 수 있음\n",
        "melon100_df.shape"
      ],
      "execution_count": 0,
      "outputs": [
        {
          "output_type": "execute_result",
          "data": {
            "text/plain": [
              "(100, 4)"
            ]
          },
          "metadata": {
            "tags": []
          },
          "execution_count": 7
        }
      ]
    },
    {
      "cell_type": "code",
      "metadata": {
        "id": "2Acwz7Miaxr7",
        "colab_type": "code",
        "outputId": "9a92df9f-e5c1-40b8-dbc4-c78f9154221e",
        "colab": {
          "base_uri": "https://localhost:8080/",
          "height": 204
        }
      },
      "source": [
        "# head() : 앞에서부터 5개 데이터를 기본값으로 볼 수 있음\n",
        "melon100_df.head()"
      ],
      "execution_count": 0,
      "outputs": [
        {
          "output_type": "execute_result",
          "data": {
            "text/html": [
              "<div>\n",
              "<style scoped>\n",
              "    .dataframe tbody tr th:only-of-type {\n",
              "        vertical-align: middle;\n",
              "    }\n",
              "\n",
              "    .dataframe tbody tr th {\n",
              "        vertical-align: top;\n",
              "    }\n",
              "\n",
              "    .dataframe thead th {\n",
              "        text-align: right;\n",
              "    }\n",
              "</style>\n",
              "<table border=\"1\" class=\"dataframe\">\n",
              "  <thead>\n",
              "    <tr style=\"text-align: right;\">\n",
              "      <th></th>\n",
              "      <th>순위</th>\n",
              "      <th>곡명</th>\n",
              "      <th>아티스트</th>\n",
              "      <th>앨범</th>\n",
              "    </tr>\n",
              "  </thead>\n",
              "  <tbody>\n",
              "    <tr>\n",
              "      <th>0</th>\n",
              "      <td>1</td>\n",
              "      <td>ON</td>\n",
              "      <td>방탄소년단</td>\n",
              "      <td>MAP OF THE SOUL : 7</td>\n",
              "    </tr>\n",
              "    <tr>\n",
              "      <th>1</th>\n",
              "      <td>2</td>\n",
              "      <td>00:00 (Zero O’Clock)</td>\n",
              "      <td>방탄소년단</td>\n",
              "      <td>MAP OF THE SOUL : 7</td>\n",
              "    </tr>\n",
              "    <tr>\n",
              "      <th>2</th>\n",
              "      <td>3</td>\n",
              "      <td>친구</td>\n",
              "      <td>방탄소년단</td>\n",
              "      <td>MAP OF THE SOUL : 7</td>\n",
              "    </tr>\n",
              "    <tr>\n",
              "      <th>3</th>\n",
              "      <td>4</td>\n",
              "      <td>Filter</td>\n",
              "      <td>방탄소년단</td>\n",
              "      <td>MAP OF THE SOUL : 7</td>\n",
              "    </tr>\n",
              "    <tr>\n",
              "      <th>4</th>\n",
              "      <td>5</td>\n",
              "      <td>Black Swan</td>\n",
              "      <td>방탄소년단</td>\n",
              "      <td>MAP OF THE SOUL : 7</td>\n",
              "    </tr>\n",
              "  </tbody>\n",
              "</table>\n",
              "</div>"
            ],
            "text/plain": [
              "   순위                    곡명   아티스트                   앨범\n",
              "0   1                    ON  방탄소년단  MAP OF THE SOUL : 7\n",
              "1   2  00:00 (Zero O’Clock)  방탄소년단  MAP OF THE SOUL : 7\n",
              "2   3                    친구  방탄소년단  MAP OF THE SOUL : 7\n",
              "3   4                Filter  방탄소년단  MAP OF THE SOUL : 7\n",
              "4   5            Black Swan  방탄소년단  MAP OF THE SOUL : 7"
            ]
          },
          "metadata": {
            "tags": []
          },
          "execution_count": 8
        }
      ]
    },
    {
      "cell_type": "code",
      "metadata": {
        "id": "cOERggfRbJYF",
        "colab_type": "code",
        "outputId": "e8073f26-ff6a-466c-808d-f3c28c42c8a1",
        "colab": {
          "base_uri": "https://localhost:8080/",
          "height": 306
        }
      },
      "source": [
        "# tail() : 뒤에서부터 5개 데이터를 볼 수 있음\n",
        "melon100_df.tail()"
      ],
      "execution_count": 0,
      "outputs": [
        {
          "output_type": "execute_result",
          "data": {
            "text/html": [
              "<div>\n",
              "<style scoped>\n",
              "    .dataframe tbody tr th:only-of-type {\n",
              "        vertical-align: middle;\n",
              "    }\n",
              "\n",
              "    .dataframe tbody tr th {\n",
              "        vertical-align: top;\n",
              "    }\n",
              "\n",
              "    .dataframe thead th {\n",
              "        text-align: right;\n",
              "    }\n",
              "</style>\n",
              "<table border=\"1\" class=\"dataframe\">\n",
              "  <thead>\n",
              "    <tr style=\"text-align: right;\">\n",
              "      <th></th>\n",
              "      <th>순위</th>\n",
              "      <th>곡명</th>\n",
              "      <th>아티스트</th>\n",
              "      <th>앨범</th>\n",
              "    </tr>\n",
              "  </thead>\n",
              "  <tbody>\n",
              "    <tr>\n",
              "      <th>95</th>\n",
              "      <td>96</td>\n",
              "      <td>그대라는 시</td>\n",
              "      <td>태연 (TAEYEON)</td>\n",
              "      <td>호텔 델루나 OST Part.3</td>\n",
              "    </tr>\n",
              "    <tr>\n",
              "      <th>96</th>\n",
              "      <td>97</td>\n",
              "      <td>돌덩이</td>\n",
              "      <td>하현우 (국카스텐)</td>\n",
              "      <td>이태원 클라쓰 OST Part.3</td>\n",
              "    </tr>\n",
              "    <tr>\n",
              "      <th>97</th>\n",
              "      <td>98</td>\n",
              "      <td>Into the Unknown (From \"Frozen 2\"/Soundtrack V...</td>\n",
              "      <td>Idina Menzel</td>\n",
              "      <td>Frozen 2 (Original Motion Picture Soundtrack/D...</td>\n",
              "    </tr>\n",
              "    <tr>\n",
              "      <th>98</th>\n",
              "      <td>99</td>\n",
              "      <td>Know Me Too Well</td>\n",
              "      <td>New Hope Club</td>\n",
              "      <td>Know Me Too Well</td>\n",
              "    </tr>\n",
              "    <tr>\n",
              "      <th>99</th>\n",
              "      <td>100</td>\n",
              "      <td>언젠가 우리의 밤도 지나가겠죠</td>\n",
              "      <td>IZ*ONE (아이즈원)</td>\n",
              "      <td>BLOOM*IZ</td>\n",
              "    </tr>\n",
              "  </tbody>\n",
              "</table>\n",
              "</div>"
            ],
            "text/plain": [
              "     순위  ...                                                 앨범\n",
              "95   96  ...                                  호텔 델루나 OST Part.3\n",
              "96   97  ...                                 이태원 클라쓰 OST Part.3\n",
              "97   98  ...  Frozen 2 (Original Motion Picture Soundtrack/D...\n",
              "98   99  ...                                   Know Me Too Well\n",
              "99  100  ...                                           BLOOM*IZ\n",
              "\n",
              "[5 rows x 4 columns]"
            ]
          },
          "metadata": {
            "tags": []
          },
          "execution_count": 9
        }
      ]
    },
    {
      "cell_type": "code",
      "metadata": {
        "id": "h3bMGyskbWBT",
        "colab_type": "code",
        "outputId": "cce463ac-7682-4f61-a3b0-9b43b2207b12",
        "colab": {
          "base_uri": "https://localhost:8080/",
          "height": 170
        }
      },
      "source": [
        "# 데이터 요약하기\n",
        "# int64 : 정수형, object : 문자열, float : 소수점이 들어간 숫자 \n",
        "melon100_df.info()"
      ],
      "execution_count": 0,
      "outputs": [
        {
          "output_type": "stream",
          "text": [
            "<class 'pandas.core.frame.DataFrame'>\n",
            "RangeIndex: 100 entries, 0 to 99\n",
            "Data columns (total 4 columns):\n",
            "순위      100 non-null int64\n",
            "곡명      100 non-null object\n",
            "아티스트    100 non-null object\n",
            "앨범      100 non-null object\n",
            "dtypes: int64(1), object(3)\n",
            "memory usage: 3.2+ KB\n"
          ],
          "name": "stdout"
        }
      ]
    },
    {
      "cell_type": "code",
      "metadata": {
        "id": "tReg-YD5cP4e",
        "colab_type": "code",
        "outputId": "e4fba723-423e-46a1-9a09-d46fc755652f",
        "colab": {
          "base_uri": "https://localhost:8080/",
          "height": 34
        }
      },
      "source": [
        "# 컬럼명 보기\n",
        "melon100_df.columns"
      ],
      "execution_count": 0,
      "outputs": [
        {
          "output_type": "execute_result",
          "data": {
            "text/plain": [
              "Index(['순위', '곡명', '아티스트', '앨범'], dtype='object')"
            ]
          },
          "metadata": {
            "tags": []
          },
          "execution_count": 11
        }
      ]
    },
    {
      "cell_type": "code",
      "metadata": {
        "id": "cSxz2TzbcmfO",
        "colab_type": "code",
        "outputId": "4cd7dd87-26b1-4486-f7d6-bbd5edd5e2ba",
        "colab": {
          "base_uri": "https://localhost:8080/",
          "height": 102
        }
      },
      "source": [
        "# 데이터 타입 확인하기\n",
        "melon100_df.dtypes"
      ],
      "execution_count": 0,
      "outputs": [
        {
          "output_type": "execute_result",
          "data": {
            "text/plain": [
              "순위       int64\n",
              "곡명      object\n",
              "아티스트    object\n",
              "앨범      object\n",
              "dtype: object"
            ]
          },
          "metadata": {
            "tags": []
          },
          "execution_count": 12
        }
      ]
    },
    {
      "cell_type": "code",
      "metadata": {
        "id": "XBaQd0nAc85g",
        "colab_type": "code",
        "outputId": "9c081500-bba8-41f1-8991-9b64c2f70686",
        "colab": {
          "base_uri": "https://localhost:8080/",
          "height": 102
        }
      },
      "source": [
        "# 결측치 확인\n",
        "# isnull() : 해당 데이터가 결측치라면 True 출력\n",
        "# sum() : True 의 개수를 세줌\n",
        "null_count = melon100_df.isnull().sum()\n",
        "null_count"
      ],
      "execution_count": 0,
      "outputs": [
        {
          "output_type": "execute_result",
          "data": {
            "text/plain": [
              "순위      0\n",
              "곡명      0\n",
              "아티스트    0\n",
              "앨범      0\n",
              "dtype: int64"
            ]
          },
          "metadata": {
            "tags": []
          },
          "execution_count": 13
        }
      ]
    },
    {
      "cell_type": "code",
      "metadata": {
        "id": "-WHow9wMd_KT",
        "colab_type": "code",
        "outputId": "6035a120-973f-42f8-9005-317b60882d29",
        "colab": {
          "base_uri": "https://localhost:8080/",
          "height": 965
        }
      },
      "source": [
        "# 결측치 시각화하기\n",
        "null_count.plot()\n",
        "#null_count.plot.bar()\n",
        "#null_count.plot.bar(rot=60)\n",
        "#null_count.plot.barh(figsize=(5,7))"
      ],
      "execution_count": 0,
      "outputs": [
        {
          "output_type": "execute_result",
          "data": {
            "text/plain": [
              "<matplotlib.axes._subplots.AxesSubplot at 0x7ff3b4ae1748>"
            ]
          },
          "metadata": {
            "tags": []
          },
          "execution_count": 14
        },
        {
          "output_type": "stream",
          "text": [
            "/usr/local/lib/python3.6/dist-packages/matplotlib/backends/backend_agg.py:211: RuntimeWarning: Glyph 49692 missing from current font.\n",
            "  font.set_text(s, 0.0, flags=flags)\n",
            "/usr/local/lib/python3.6/dist-packages/matplotlib/backends/backend_agg.py:211: RuntimeWarning: Glyph 50948 missing from current font.\n",
            "  font.set_text(s, 0.0, flags=flags)\n",
            "/usr/local/lib/python3.6/dist-packages/matplotlib/backends/backend_agg.py:211: RuntimeWarning: Glyph 44257 missing from current font.\n",
            "  font.set_text(s, 0.0, flags=flags)\n",
            "/usr/local/lib/python3.6/dist-packages/matplotlib/backends/backend_agg.py:211: RuntimeWarning: Glyph 47749 missing from current font.\n",
            "  font.set_text(s, 0.0, flags=flags)\n",
            "/usr/local/lib/python3.6/dist-packages/matplotlib/backends/backend_agg.py:211: RuntimeWarning: Glyph 50500 missing from current font.\n",
            "  font.set_text(s, 0.0, flags=flags)\n",
            "/usr/local/lib/python3.6/dist-packages/matplotlib/backends/backend_agg.py:211: RuntimeWarning: Glyph 54000 missing from current font.\n",
            "  font.set_text(s, 0.0, flags=flags)\n",
            "/usr/local/lib/python3.6/dist-packages/matplotlib/backends/backend_agg.py:211: RuntimeWarning: Glyph 49828 missing from current font.\n",
            "  font.set_text(s, 0.0, flags=flags)\n",
            "/usr/local/lib/python3.6/dist-packages/matplotlib/backends/backend_agg.py:211: RuntimeWarning: Glyph 53944 missing from current font.\n",
            "  font.set_text(s, 0.0, flags=flags)\n",
            "/usr/local/lib/python3.6/dist-packages/matplotlib/backends/backend_agg.py:211: RuntimeWarning: Glyph 50536 missing from current font.\n",
            "  font.set_text(s, 0.0, flags=flags)\n",
            "/usr/local/lib/python3.6/dist-packages/matplotlib/backends/backend_agg.py:211: RuntimeWarning: Glyph 48276 missing from current font.\n",
            "  font.set_text(s, 0.0, flags=flags)\n",
            "/usr/local/lib/python3.6/dist-packages/matplotlib/backends/backend_agg.py:180: RuntimeWarning: Glyph 49692 missing from current font.\n",
            "  font.set_text(s, 0, flags=flags)\n",
            "/usr/local/lib/python3.6/dist-packages/matplotlib/backends/backend_agg.py:180: RuntimeWarning: Glyph 50948 missing from current font.\n",
            "  font.set_text(s, 0, flags=flags)\n",
            "/usr/local/lib/python3.6/dist-packages/matplotlib/backends/backend_agg.py:180: RuntimeWarning: Glyph 44257 missing from current font.\n",
            "  font.set_text(s, 0, flags=flags)\n",
            "/usr/local/lib/python3.6/dist-packages/matplotlib/backends/backend_agg.py:180: RuntimeWarning: Glyph 47749 missing from current font.\n",
            "  font.set_text(s, 0, flags=flags)\n",
            "/usr/local/lib/python3.6/dist-packages/matplotlib/backends/backend_agg.py:180: RuntimeWarning: Glyph 50500 missing from current font.\n",
            "  font.set_text(s, 0, flags=flags)\n",
            "/usr/local/lib/python3.6/dist-packages/matplotlib/backends/backend_agg.py:180: RuntimeWarning: Glyph 54000 missing from current font.\n",
            "  font.set_text(s, 0, flags=flags)\n",
            "/usr/local/lib/python3.6/dist-packages/matplotlib/backends/backend_agg.py:180: RuntimeWarning: Glyph 49828 missing from current font.\n",
            "  font.set_text(s, 0, flags=flags)\n",
            "/usr/local/lib/python3.6/dist-packages/matplotlib/backends/backend_agg.py:180: RuntimeWarning: Glyph 53944 missing from current font.\n",
            "  font.set_text(s, 0, flags=flags)\n",
            "/usr/local/lib/python3.6/dist-packages/matplotlib/backends/backend_agg.py:180: RuntimeWarning: Glyph 50536 missing from current font.\n",
            "  font.set_text(s, 0, flags=flags)\n",
            "/usr/local/lib/python3.6/dist-packages/matplotlib/backends/backend_agg.py:180: RuntimeWarning: Glyph 48276 missing from current font.\n",
            "  font.set_text(s, 0, flags=flags)\n"
          ],
          "name": "stderr"
        },
        {
          "output_type": "display_data",
          "data": {
            "image/png": "[encoded data removed]",
            "text/plain": [
              "<Figure size 432x288 with 1 Axes>"
            ]
          },
          "metadata": {
            "tags": []
          }
        }
      ]
    },
    {
      "cell_type": "code",
      "metadata": {
        "id": "V7WfpoBIeVOX",
        "colab_type": "code",
        "outputId": "b13041a3-4bdc-414d-bf67-3d9cb358735a",
        "colab": {
          "base_uri": "https://localhost:8080/",
          "height": 173
        }
      },
      "source": [
        "# 결측치 데이터 프레임 형태로 변형하기 : reset_index() 이용\n",
        "df_null_count = null_count.reset_index()\n",
        "df_null_count"
      ],
      "execution_count": 0,
      "outputs": [
        {
          "output_type": "execute_result",
          "data": {
            "text/html": [
              "<div>\n",
              "<style scoped>\n",
              "    .dataframe tbody tr th:only-of-type {\n",
              "        vertical-align: middle;\n",
              "    }\n",
              "\n",
              "    .dataframe tbody tr th {\n",
              "        vertical-align: top;\n",
              "    }\n",
              "\n",
              "    .dataframe thead th {\n",
              "        text-align: right;\n",
              "    }\n",
              "</style>\n",
              "<table border=\"1\" class=\"dataframe\">\n",
              "  <thead>\n",
              "    <tr style=\"text-align: right;\">\n",
              "      <th></th>\n",
              "      <th>index</th>\n",
              "      <th>0</th>\n",
              "    </tr>\n",
              "  </thead>\n",
              "  <tbody>\n",
              "    <tr>\n",
              "      <th>0</th>\n",
              "      <td>순위</td>\n",
              "      <td>0</td>\n",
              "    </tr>\n",
              "    <tr>\n",
              "      <th>1</th>\n",
              "      <td>곡명</td>\n",
              "      <td>0</td>\n",
              "    </tr>\n",
              "    <tr>\n",
              "      <th>2</th>\n",
              "      <td>아티스트</td>\n",
              "      <td>0</td>\n",
              "    </tr>\n",
              "    <tr>\n",
              "      <th>3</th>\n",
              "      <td>앨범</td>\n",
              "      <td>0</td>\n",
              "    </tr>\n",
              "  </tbody>\n",
              "</table>\n",
              "</div>"
            ],
            "text/plain": [
              "  index  0\n",
              "0    순위  0\n",
              "1    곡명  0\n",
              "2  아티스트  0\n",
              "3    앨범  0"
            ]
          },
          "metadata": {
            "tags": []
          },
          "execution_count": 15
        }
      ]
    },
    {
      "cell_type": "code",
      "metadata": {
        "id": "IP30Ah1uem1k",
        "colab_type": "code",
        "outputId": "4c19f7db-e67f-4325-d435-3356486c492e",
        "colab": {
          "base_uri": "https://localhost:8080/",
          "height": 173
        }
      },
      "source": [
        "# 새로운 컬럼명 지정하기\n",
        "df_null_count.columns = ['컬럼명', '결측치수']\n",
        "df_null_count"
      ],
      "execution_count": 0,
      "outputs": [
        {
          "output_type": "execute_result",
          "data": {
            "text/html": [
              "<div>\n",
              "<style scoped>\n",
              "    .dataframe tbody tr th:only-of-type {\n",
              "        vertical-align: middle;\n",
              "    }\n",
              "\n",
              "    .dataframe tbody tr th {\n",
              "        vertical-align: top;\n",
              "    }\n",
              "\n",
              "    .dataframe thead th {\n",
              "        text-align: right;\n",
              "    }\n",
              "</style>\n",
              "<table border=\"1\" class=\"dataframe\">\n",
              "  <thead>\n",
              "    <tr style=\"text-align: right;\">\n",
              "      <th></th>\n",
              "      <th>컬럼명</th>\n",
              "      <th>결측치수</th>\n",
              "    </tr>\n",
              "  </thead>\n",
              "  <tbody>\n",
              "    <tr>\n",
              "      <th>0</th>\n",
              "      <td>순위</td>\n",
              "      <td>0</td>\n",
              "    </tr>\n",
              "    <tr>\n",
              "      <th>1</th>\n",
              "      <td>곡명</td>\n",
              "      <td>0</td>\n",
              "    </tr>\n",
              "    <tr>\n",
              "      <th>2</th>\n",
              "      <td>아티스트</td>\n",
              "      <td>0</td>\n",
              "    </tr>\n",
              "    <tr>\n",
              "      <th>3</th>\n",
              "      <td>앨범</td>\n",
              "      <td>0</td>\n",
              "    </tr>\n",
              "  </tbody>\n",
              "</table>\n",
              "</div>"
            ],
            "text/plain": [
              "    컬럼명  결측치수\n",
              "0    순위     0\n",
              "1    곡명     0\n",
              "2  아티스트     0\n",
              "3    앨범     0"
            ]
          },
          "metadata": {
            "tags": []
          },
          "execution_count": 16
        }
      ]
    },
    {
      "cell_type": "code",
      "metadata": {
        "id": "1JQKYD05exyI",
        "colab_type": "code",
        "outputId": "41043eef-46b1-45ac-94dd-322575c0b61d",
        "colab": {
          "base_uri": "https://localhost:8080/",
          "height": 173
        }
      },
      "source": [
        "# 결측치를 기준으로 내림차순 정렬\n",
        "# by : 기준이 되는 컬럼 설정\n",
        "# ascending : 오름차순, 내림차순 정렬을 지정\n",
        "df_null_count_top = df_null_count.sort_values(by = \"결측치수\", ascending = False).head()\n",
        "df_null_count_top"
      ],
      "execution_count": 0,
      "outputs": [
        {
          "output_type": "execute_result",
          "data": {
            "text/html": [
              "<div>\n",
              "<style scoped>\n",
              "    .dataframe tbody tr th:only-of-type {\n",
              "        vertical-align: middle;\n",
              "    }\n",
              "\n",
              "    .dataframe tbody tr th {\n",
              "        vertical-align: top;\n",
              "    }\n",
              "\n",
              "    .dataframe thead th {\n",
              "        text-align: right;\n",
              "    }\n",
              "</style>\n",
              "<table border=\"1\" class=\"dataframe\">\n",
              "  <thead>\n",
              "    <tr style=\"text-align: right;\">\n",
              "      <th></th>\n",
              "      <th>컬럼명</th>\n",
              "      <th>결측치수</th>\n",
              "    </tr>\n",
              "  </thead>\n",
              "  <tbody>\n",
              "    <tr>\n",
              "      <th>0</th>\n",
              "      <td>순위</td>\n",
              "      <td>0</td>\n",
              "    </tr>\n",
              "    <tr>\n",
              "      <th>1</th>\n",
              "      <td>곡명</td>\n",
              "      <td>0</td>\n",
              "    </tr>\n",
              "    <tr>\n",
              "      <th>2</th>\n",
              "      <td>아티스트</td>\n",
              "      <td>0</td>\n",
              "    </tr>\n",
              "    <tr>\n",
              "      <th>3</th>\n",
              "      <td>앨범</td>\n",
              "      <td>0</td>\n",
              "    </tr>\n",
              "  </tbody>\n",
              "</table>\n",
              "</div>"
            ],
            "text/plain": [
              "    컬럼명  결측치수\n",
              "0    순위     0\n",
              "1    곡명     0\n",
              "2  아티스트     0\n",
              "3    앨범     0"
            ]
          },
          "metadata": {
            "tags": []
          },
          "execution_count": 17
        }
      ]
    },
    {
      "cell_type": "code",
      "metadata": {
        "id": "GDVu58lffesw",
        "colab_type": "code",
        "outputId": "e95bfc16-5801-49b8-90b3-089cbe93fffb",
        "colab": {
          "base_uri": "https://localhost:8080/",
          "height": 119
        }
      },
      "source": [
        "# 특정 컬럼만 불러오기\n",
        "melon100_df[\"곡명\"].head()"
      ],
      "execution_count": 0,
      "outputs": [
        {
          "output_type": "execute_result",
          "data": {
            "text/plain": [
              "0                      ON\n",
              "1    00:00 (Zero O’Clock)\n",
              "2                      친구\n",
              "3                  Filter\n",
              "4              Black Swan\n",
              "Name: 곡명, dtype: object"
            ]
          },
          "metadata": {
            "tags": []
          },
          "execution_count": 18
        }
      ]
    },
    {
      "cell_type": "code",
      "metadata": {
        "id": "bpkgYn1FgEj6",
        "colab_type": "code",
        "outputId": "9c847de9-63bb-4c5a-bb91-0a8073c626b0",
        "colab": {
          "base_uri": "https://localhost:8080/",
          "height": 34
        }
      },
      "source": [
        "# 컬럼명 리스트화 하기\n",
        "one_columns = df_null_count_top[\"컬럼명\"].tolist()\n",
        "one_columns"
      ],
      "execution_count": 0,
      "outputs": [
        {
          "output_type": "execute_result",
          "data": {
            "text/plain": [
              "['순위', '곡명', '아티스트', '앨범']"
            ]
          },
          "metadata": {
            "tags": []
          },
          "execution_count": 19
        }
      ]
    },
    {
      "cell_type": "code",
      "metadata": {
        "id": "wzy2X-8XgrOf",
        "colab_type": "code",
        "outputId": "4a3a5e9e-46c8-4bb5-9bc0-b8345fc7416f",
        "colab": {
          "base_uri": "https://localhost:8080/",
          "height": 204
        }
      },
      "source": [
        "# 삭제할 컬럼 확인 (결측치 있는 경우)\n",
        "melon100_df[one_columns].head()"
      ],
      "execution_count": 0,
      "outputs": [
        {
          "output_type": "execute_result",
          "data": {
            "text/html": [
              "<div>\n",
              "<style scoped>\n",
              "    .dataframe tbody tr th:only-of-type {\n",
              "        vertical-align: middle;\n",
              "    }\n",
              "\n",
              "    .dataframe tbody tr th {\n",
              "        vertical-align: top;\n",
              "    }\n",
              "\n",
              "    .dataframe thead th {\n",
              "        text-align: right;\n",
              "    }\n",
              "</style>\n",
              "<table border=\"1\" class=\"dataframe\">\n",
              "  <thead>\n",
              "    <tr style=\"text-align: right;\">\n",
              "      <th></th>\n",
              "      <th>순위</th>\n",
              "      <th>곡명</th>\n",
              "      <th>아티스트</th>\n",
              "      <th>앨범</th>\n",
              "    </tr>\n",
              "  </thead>\n",
              "  <tbody>\n",
              "    <tr>\n",
              "      <th>0</th>\n",
              "      <td>1</td>\n",
              "      <td>ON</td>\n",
              "      <td>방탄소년단</td>\n",
              "      <td>MAP OF THE SOUL : 7</td>\n",
              "    </tr>\n",
              "    <tr>\n",
              "      <th>1</th>\n",
              "      <td>2</td>\n",
              "      <td>00:00 (Zero O’Clock)</td>\n",
              "      <td>방탄소년단</td>\n",
              "      <td>MAP OF THE SOUL : 7</td>\n",
              "    </tr>\n",
              "    <tr>\n",
              "      <th>2</th>\n",
              "      <td>3</td>\n",
              "      <td>친구</td>\n",
              "      <td>방탄소년단</td>\n",
              "      <td>MAP OF THE SOUL : 7</td>\n",
              "    </tr>\n",
              "    <tr>\n",
              "      <th>3</th>\n",
              "      <td>4</td>\n",
              "      <td>Filter</td>\n",
              "      <td>방탄소년단</td>\n",
              "      <td>MAP OF THE SOUL : 7</td>\n",
              "    </tr>\n",
              "    <tr>\n",
              "      <th>4</th>\n",
              "      <td>5</td>\n",
              "      <td>Black Swan</td>\n",
              "      <td>방탄소년단</td>\n",
              "      <td>MAP OF THE SOUL : 7</td>\n",
              "    </tr>\n",
              "  </tbody>\n",
              "</table>\n",
              "</div>"
            ],
            "text/plain": [
              "   순위                    곡명   아티스트                   앨범\n",
              "0   1                    ON  방탄소년단  MAP OF THE SOUL : 7\n",
              "1   2  00:00 (Zero O’Clock)  방탄소년단  MAP OF THE SOUL : 7\n",
              "2   3                    친구  방탄소년단  MAP OF THE SOUL : 7\n",
              "3   4                Filter  방탄소년단  MAP OF THE SOUL : 7\n",
              "4   5            Black Swan  방탄소년단  MAP OF THE SOUL : 7"
            ]
          },
          "metadata": {
            "tags": []
          },
          "execution_count": 20
        }
      ]
    },
    {
      "cell_type": "code",
      "metadata": {
        "id": "HErGyz7-hKzq",
        "colab_type": "code",
        "colab": {}
      },
      "source": [
        "# 결측치 top drop\n",
        "# melon100_df = melon100_df(one_columns, axis=1)"
      ],
      "execution_count": 0,
      "outputs": []
    },
    {
      "cell_type": "code",
      "metadata": {
        "id": "qOsmEwDqiBia",
        "colab_type": "code",
        "outputId": "06ff5cb4-68e0-4bcf-c5de-d43a93c419fa",
        "colab": {
          "base_uri": "https://localhost:8080/",
          "height": 34
        }
      },
      "source": [
        "## 기술통계값\n",
        "# dtypes : 데이터 타입 출력\n",
        "melon100_df[\"순위\"].dtypes"
      ],
      "execution_count": 0,
      "outputs": [
        {
          "output_type": "execute_result",
          "data": {
            "text/plain": [
              "dtype('int64')"
            ]
          },
          "metadata": {
            "tags": []
          },
          "execution_count": 22
        }
      ]
    },
    {
      "cell_type": "code",
      "metadata": {
        "id": "ERpPEWhGiZ9v",
        "colab_type": "code",
        "outputId": "04f410c4-1b22-4bdb-f6cd-c93ea3fb3167",
        "colab": {
          "base_uri": "https://localhost:8080/",
          "height": 34
        }
      },
      "source": [
        "# 평균값\n",
        "melon100_df[\"순위\"].mean()"
      ],
      "execution_count": 0,
      "outputs": [
        {
          "output_type": "execute_result",
          "data": {
            "text/plain": [
              "50.5"
            ]
          },
          "metadata": {
            "tags": []
          },
          "execution_count": 23
        }
      ]
    },
    {
      "cell_type": "code",
      "metadata": {
        "id": "pGivhhaPih_F",
        "colab_type": "code",
        "outputId": "d8b35d8b-4d7f-42a4-a6a4-5f4cd209027e",
        "colab": {
          "base_uri": "https://localhost:8080/",
          "height": 34
        }
      },
      "source": [
        "# 중앙값\n",
        "melon100_df[\"순위\"].median()"
      ],
      "execution_count": 0,
      "outputs": [
        {
          "output_type": "execute_result",
          "data": {
            "text/plain": [
              "50.5"
            ]
          },
          "metadata": {
            "tags": []
          },
          "execution_count": 24
        }
      ]
    },
    {
      "cell_type": "code",
      "metadata": {
        "id": "H-b5X2GCiotg",
        "colab_type": "code",
        "outputId": "f226e53b-9984-4270-8acc-85d4bf819513",
        "colab": {
          "base_uri": "https://localhost:8080/",
          "height": 34
        }
      },
      "source": [
        "# 최대값\n",
        "melon100_df[\"순위\"].max()"
      ],
      "execution_count": 0,
      "outputs": [
        {
          "output_type": "execute_result",
          "data": {
            "text/plain": [
              "100"
            ]
          },
          "metadata": {
            "tags": []
          },
          "execution_count": 25
        }
      ]
    },
    {
      "cell_type": "code",
      "metadata": {
        "id": "95bxnAa2iu6L",
        "colab_type": "code",
        "outputId": "4f1418f6-1460-43ff-f03e-39dddf387ac5",
        "colab": {
          "base_uri": "https://localhost:8080/",
          "height": 34
        }
      },
      "source": [
        "# 최소값\n",
        "melon100_df[\"순위\"].min()"
      ],
      "execution_count": 0,
      "outputs": [
        {
          "output_type": "execute_result",
          "data": {
            "text/plain": [
              "1"
            ]
          },
          "metadata": {
            "tags": []
          },
          "execution_count": 26
        }
      ]
    },
    {
      "cell_type": "code",
      "metadata": {
        "id": "mKXX4qJTi0uO",
        "colab_type": "code",
        "outputId": "128c0361-fc6b-4933-b94c-f8ec6a7af3d1",
        "colab": {
          "base_uri": "https://localhost:8080/",
          "height": 34
        }
      },
      "source": [
        "# 데이터의 개수 확인하기\n",
        "melon100_df[\"순위\"].count()"
      ],
      "execution_count": 0,
      "outputs": [
        {
          "output_type": "execute_result",
          "data": {
            "text/plain": [
              "100"
            ]
          },
          "metadata": {
            "tags": []
          },
          "execution_count": 27
        }
      ]
    },
    {
      "cell_type": "code",
      "metadata": {
        "id": "ks8tOFEJi5Sw",
        "colab_type": "code",
        "outputId": "becec5aa-2ba8-417c-f643-a132ccc1b481",
        "colab": {
          "base_uri": "https://localhost:8080/",
          "height": 170
        }
      },
      "source": [
        "# 요약값 확인하기\n",
        "# 25% : 앞에서 1/4 되는 값, 1사분위수\n",
        "# 50% : 중앙값, 2사분위수\n",
        "# 75% : 앞에서 3/4 번째 되는 수, 3사분위수\n",
        "# mean, min, max 는 각각 평균, 최소값, 최대값\n",
        "melon100_df[\"순위\"].describe()\n",
        "\n",
        "# 2개 이상일 경우 list 형태로 컬럼을 넣어야 함\n",
        "#melon100_df[[\"순위1\", \"순위2\"]].describe()"
      ],
      "execution_count": 0,
      "outputs": [
        {
          "output_type": "execute_result",
          "data": {
            "text/plain": [
              "count    100.000000\n",
              "mean      50.500000\n",
              "std       29.011492\n",
              "min        1.000000\n",
              "25%       25.750000\n",
              "50%       50.500000\n",
              "75%       75.250000\n",
              "max      100.000000\n",
              "Name: 순위, dtype: float64"
            ]
          },
          "metadata": {
            "tags": []
          },
          "execution_count": 28
        }
      ]
    },
    {
      "cell_type": "code",
      "metadata": {
        "id": "nByHvwHjjxvf",
        "colab_type": "code",
        "outputId": "9e0531b6-1cb5-4808-eff2-0423efcd6e37",
        "colab": {
          "base_uri": "https://localhost:8080/",
          "height": 297
        }
      },
      "source": [
        "# 특정 데이터만 요약하기\n",
        "# number : 숫자로 된 데이터만 요약\n",
        "melon100_df.describe(include=\"number\")"
      ],
      "execution_count": 0,
      "outputs": [
        {
          "output_type": "execute_result",
          "data": {
            "text/html": [
              "<div>\n",
              "<style scoped>\n",
              "    .dataframe tbody tr th:only-of-type {\n",
              "        vertical-align: middle;\n",
              "    }\n",
              "\n",
              "    .dataframe tbody tr th {\n",
              "        vertical-align: top;\n",
              "    }\n",
              "\n",
              "    .dataframe thead th {\n",
              "        text-align: right;\n",
              "    }\n",
              "</style>\n",
              "<table border=\"1\" class=\"dataframe\">\n",
              "  <thead>\n",
              "    <tr style=\"text-align: right;\">\n",
              "      <th></th>\n",
              "      <th>순위</th>\n",
              "    </tr>\n",
              "  </thead>\n",
              "  <tbody>\n",
              "    <tr>\n",
              "      <th>count</th>\n",
              "      <td>100.000000</td>\n",
              "    </tr>\n",
              "    <tr>\n",
              "      <th>mean</th>\n",
              "      <td>50.500000</td>\n",
              "    </tr>\n",
              "    <tr>\n",
              "      <th>std</th>\n",
              "      <td>29.011492</td>\n",
              "    </tr>\n",
              "    <tr>\n",
              "      <th>min</th>\n",
              "      <td>1.000000</td>\n",
              "    </tr>\n",
              "    <tr>\n",
              "      <th>25%</th>\n",
              "      <td>25.750000</td>\n",
              "    </tr>\n",
              "    <tr>\n",
              "      <th>50%</th>\n",
              "      <td>50.500000</td>\n",
              "    </tr>\n",
              "    <tr>\n",
              "      <th>75%</th>\n",
              "      <td>75.250000</td>\n",
              "    </tr>\n",
              "    <tr>\n",
              "      <th>max</th>\n",
              "      <td>100.000000</td>\n",
              "    </tr>\n",
              "  </tbody>\n",
              "</table>\n",
              "</div>"
            ],
            "text/plain": [
              "               순위\n",
              "count  100.000000\n",
              "mean    50.500000\n",
              "std     29.011492\n",
              "min      1.000000\n",
              "25%     25.750000\n",
              "50%     50.500000\n",
              "75%     75.250000\n",
              "max    100.000000"
            ]
          },
          "metadata": {
            "tags": []
          },
          "execution_count": 29
        }
      ]
    },
    {
      "cell_type": "code",
      "metadata": {
        "id": "Ts55-D_CkE9Z",
        "colab_type": "code",
        "outputId": "4c0dd5c2-cc18-45f4-8e23-8221806925d5",
        "colab": {
          "base_uri": "https://localhost:8080/",
          "height": 173
        }
      },
      "source": [
        "# object : 문자열 데이터만 요약\n",
        "# top : 가장 높은 빈도로 저장된 데이터\n",
        "# freq : top 데이터의 빈도수 표시\n",
        "melon100_df.describe(include=\"object\")"
      ],
      "execution_count": 0,
      "outputs": [
        {
          "output_type": "execute_result",
          "data": {
            "text/html": [
              "<div>\n",
              "<style scoped>\n",
              "    .dataframe tbody tr th:only-of-type {\n",
              "        vertical-align: middle;\n",
              "    }\n",
              "\n",
              "    .dataframe tbody tr th {\n",
              "        vertical-align: top;\n",
              "    }\n",
              "\n",
              "    .dataframe thead th {\n",
              "        text-align: right;\n",
              "    }\n",
              "</style>\n",
              "<table border=\"1\" class=\"dataframe\">\n",
              "  <thead>\n",
              "    <tr style=\"text-align: right;\">\n",
              "      <th></th>\n",
              "      <th>곡명</th>\n",
              "      <th>아티스트</th>\n",
              "      <th>앨범</th>\n",
              "    </tr>\n",
              "  </thead>\n",
              "  <tbody>\n",
              "    <tr>\n",
              "      <th>count</th>\n",
              "      <td>100</td>\n",
              "      <td>100</td>\n",
              "      <td>100</td>\n",
              "    </tr>\n",
              "    <tr>\n",
              "      <th>unique</th>\n",
              "      <td>100</td>\n",
              "      <td>60</td>\n",
              "      <td>81</td>\n",
              "    </tr>\n",
              "    <tr>\n",
              "      <th>top</th>\n",
              "      <td>새 사랑</td>\n",
              "      <td>방탄소년단</td>\n",
              "      <td>MAP OF THE SOUL : 7</td>\n",
              "    </tr>\n",
              "    <tr>\n",
              "      <th>freq</th>\n",
              "      <td>1</td>\n",
              "      <td>16</td>\n",
              "      <td>14</td>\n",
              "    </tr>\n",
              "  </tbody>\n",
              "</table>\n",
              "</div>"
            ],
            "text/plain": [
              "          곡명   아티스트                   앨범\n",
              "count    100    100                  100\n",
              "unique   100     60                   81\n",
              "top     새 사랑  방탄소년단  MAP OF THE SOUL : 7\n",
              "freq       1     16                   14"
            ]
          },
          "metadata": {
            "tags": []
          },
          "execution_count": 30
        }
      ]
    },
    {
      "cell_type": "code",
      "metadata": {
        "id": "YU2n8ZlrkX_0",
        "colab_type": "code",
        "outputId": "06ccaa6e-f214-424d-c5bf-65522ebc351c",
        "colab": {
          "base_uri": "https://localhost:8080/",
          "height": 390
        }
      },
      "source": [
        "# all : 모든 데이터 요약\n",
        "# unique : 값의 종류가 몇 개인지 표시\n",
        "melon100_df.describe(include=\"all\")"
      ],
      "execution_count": 0,
      "outputs": [
        {
          "output_type": "execute_result",
          "data": {
            "text/html": [
              "<div>\n",
              "<style scoped>\n",
              "    .dataframe tbody tr th:only-of-type {\n",
              "        vertical-align: middle;\n",
              "    }\n",
              "\n",
              "    .dataframe tbody tr th {\n",
              "        vertical-align: top;\n",
              "    }\n",
              "\n",
              "    .dataframe thead th {\n",
              "        text-align: right;\n",
              "    }\n",
              "</style>\n",
              "<table border=\"1\" class=\"dataframe\">\n",
              "  <thead>\n",
              "    <tr style=\"text-align: right;\">\n",
              "      <th></th>\n",
              "      <th>순위</th>\n",
              "      <th>곡명</th>\n",
              "      <th>아티스트</th>\n",
              "      <th>앨범</th>\n",
              "    </tr>\n",
              "  </thead>\n",
              "  <tbody>\n",
              "    <tr>\n",
              "      <th>count</th>\n",
              "      <td>100.000000</td>\n",
              "      <td>100</td>\n",
              "      <td>100</td>\n",
              "      <td>100</td>\n",
              "    </tr>\n",
              "    <tr>\n",
              "      <th>unique</th>\n",
              "      <td>NaN</td>\n",
              "      <td>100</td>\n",
              "      <td>60</td>\n",
              "      <td>81</td>\n",
              "    </tr>\n",
              "    <tr>\n",
              "      <th>top</th>\n",
              "      <td>NaN</td>\n",
              "      <td>새 사랑</td>\n",
              "      <td>방탄소년단</td>\n",
              "      <td>MAP OF THE SOUL : 7</td>\n",
              "    </tr>\n",
              "    <tr>\n",
              "      <th>freq</th>\n",
              "      <td>NaN</td>\n",
              "      <td>1</td>\n",
              "      <td>16</td>\n",
              "      <td>14</td>\n",
              "    </tr>\n",
              "    <tr>\n",
              "      <th>mean</th>\n",
              "      <td>50.500000</td>\n",
              "      <td>NaN</td>\n",
              "      <td>NaN</td>\n",
              "      <td>NaN</td>\n",
              "    </tr>\n",
              "    <tr>\n",
              "      <th>std</th>\n",
              "      <td>29.011492</td>\n",
              "      <td>NaN</td>\n",
              "      <td>NaN</td>\n",
              "      <td>NaN</td>\n",
              "    </tr>\n",
              "    <tr>\n",
              "      <th>min</th>\n",
              "      <td>1.000000</td>\n",
              "      <td>NaN</td>\n",
              "      <td>NaN</td>\n",
              "      <td>NaN</td>\n",
              "    </tr>\n",
              "    <tr>\n",
              "      <th>25%</th>\n",
              "      <td>25.750000</td>\n",
              "      <td>NaN</td>\n",
              "      <td>NaN</td>\n",
              "      <td>NaN</td>\n",
              "    </tr>\n",
              "    <tr>\n",
              "      <th>50%</th>\n",
              "      <td>50.500000</td>\n",
              "      <td>NaN</td>\n",
              "      <td>NaN</td>\n",
              "      <td>NaN</td>\n",
              "    </tr>\n",
              "    <tr>\n",
              "      <th>75%</th>\n",
              "      <td>75.250000</td>\n",
              "      <td>NaN</td>\n",
              "      <td>NaN</td>\n",
              "      <td>NaN</td>\n",
              "    </tr>\n",
              "    <tr>\n",
              "      <th>max</th>\n",
              "      <td>100.000000</td>\n",
              "      <td>NaN</td>\n",
              "      <td>NaN</td>\n",
              "      <td>NaN</td>\n",
              "    </tr>\n",
              "  </tbody>\n",
              "</table>\n",
              "</div>"
            ],
            "text/plain": [
              "                순위    곡명   아티스트                   앨범\n",
              "count   100.000000   100    100                  100\n",
              "unique         NaN   100     60                   81\n",
              "top            NaN  새 사랑  방탄소년단  MAP OF THE SOUL : 7\n",
              "freq           NaN     1     16                   14\n",
              "mean     50.500000   NaN    NaN                  NaN\n",
              "std      29.011492   NaN    NaN                  NaN\n",
              "min       1.000000   NaN    NaN                  NaN\n",
              "25%      25.750000   NaN    NaN                  NaN\n",
              "50%      50.500000   NaN    NaN                  NaN\n",
              "75%      75.250000   NaN    NaN                  NaN\n",
              "max     100.000000   NaN    NaN                  NaN"
            ]
          },
          "metadata": {
            "tags": []
          },
          "execution_count": 31
        }
      ]
    },
    {
      "cell_type": "code",
      "metadata": {
        "id": "MX-AG-Y1mUuV",
        "colab_type": "code",
        "outputId": "c4a0db28-75c0-4a98-8232-d3cba1944d48",
        "colab": {
          "base_uri": "https://localhost:8080/",
          "height": 224
        }
      },
      "source": [
        "# unique : 값의 종류 표시\n",
        "melon100_df[\"아티스트\"].unique()"
      ],
      "execution_count": 0,
      "outputs": [
        {
          "output_type": "execute_result",
          "data": {
            "text/plain": [
              "array(['방탄소년단', '아이유', '지코 (ZICO)', 'IZ*ONE (아이즈원)', '오반', '창모 (CHANGMO)',\n",
              "       '백현 (BAEKHYUN)', '진민호', '가호 (Gaho)', '백예린', '노을',\n",
              "       'Red Velvet (레드벨벳)', 'Crush', '김필', '김재환', '장범준', 'AKMU (악동뮤지션)',\n",
              "       '마크툽 (MAKTUB)', '신예영', '이예준', '마마무 (Mamamoo)', '염따', '전상근', '임재현',\n",
              "       'EXO', 'V.O.S', '송가인', '찬열 (CHANYEOL)', 'Anne-Marie', '폴킴',\n",
              "       'HYNN (박혜원)', '육성재 (비투비)', 'Ruel', 'KCM', '윤미래', '백지영', '황인욱',\n",
              "       'Lauv', '씨야', 'Conan Gray', '이승철', '먼데이 키즈 (Monday Kiz)', '다비치',\n",
              "       '에이치코드 (H:CODE)', '장덕철', 'Arizona Zervas', 'Billie Eilish', '청하',\n",
              "       '김나영', 'Jeremy Zucker', '송하예', '잔나비', '거미', 'Shawn Mendes', '바이브',\n",
              "       '개코', '태연 (TAEYEON)', '하현우 (국카스텐)', 'Idina Menzel',\n",
              "       'New Hope Club'], dtype=object)"
            ]
          },
          "metadata": {
            "tags": []
          },
          "execution_count": 32
        }
      ]
    },
    {
      "cell_type": "code",
      "metadata": {
        "id": "KgdNb9fgmi30",
        "colab_type": "code",
        "outputId": "c03bda77-1d5b-41c0-e760-45664be0bf76",
        "colab": {
          "base_uri": "https://localhost:8080/",
          "height": 34
        }
      },
      "source": [
        "# nunique : 값의 종류가 몇 개인지 표시\n",
        "melon100_df[\"아티스트\"].nunique()"
      ],
      "execution_count": 0,
      "outputs": [
        {
          "output_type": "execute_result",
          "data": {
            "text/plain": [
              "60"
            ]
          },
          "metadata": {
            "tags": []
          },
          "execution_count": 33
        }
      ]
    },
    {
      "cell_type": "code",
      "metadata": {
        "id": "aEzejmiBm2Ny",
        "colab_type": "code",
        "outputId": "0a25962f-bfe8-4a3f-cd56-3b9d4f0922a2",
        "colab": {
          "base_uri": "https://localhost:8080/",
          "height": 1000
        }
      },
      "source": [
        "# 그룹화된 요약값 보기\n",
        "# value_counts : 각 value 가 몇 개인지를 세어줌\n",
        "melon100_df[\"아티스트\"].value_counts()"
      ],
      "execution_count": 0,
      "outputs": [
        {
          "output_type": "execute_result",
          "data": {
            "text/plain": [
              "방탄소년단                  16\n",
              "IZ*ONE (아이즈원)           6\n",
              "창모 (CHANGMO)            4\n",
              "아이유                     3\n",
              "폴킴                      3\n",
              "V.O.S                   3\n",
              "송하예                     2\n",
              "Anne-Marie              2\n",
              "거미                      2\n",
              "백현 (BAEKHYUN)           2\n",
              "백예린                     2\n",
              "황인욱                     2\n",
              "HYNN (박혜원)              2\n",
              "마크툽 (MAKTUB)            2\n",
              "다비치                     2\n",
              "임재현                     2\n",
              "전상근                     2\n",
              "김재환                     1\n",
              "AKMU (악동뮤지션)            1\n",
              "태연 (TAEYEON)            1\n",
              "Conan Gray              1\n",
              "장덕철                     1\n",
              "바이브                     1\n",
              "Jeremy Zucker           1\n",
              "윤미래                     1\n",
              "장범준                     1\n",
              "개코                      1\n",
              "잔나비                     1\n",
              "이승철                     1\n",
              "Red Velvet (레드벨벳)       1\n",
              "하현우 (국카스텐)              1\n",
              "신예영                     1\n",
              "Crush                   1\n",
              "Arizona Zervas          1\n",
              "마마무 (Mamamoo)           1\n",
              "Ruel                    1\n",
              "먼데이 키즈 (Monday Kiz)     1\n",
              "청하                      1\n",
              "Shawn Mendes            1\n",
              "김나영                     1\n",
              "씨야                      1\n",
              "에이치코드 (H:CODE)          1\n",
              "염따                      1\n",
              "Lauv                    1\n",
              "육성재 (비투비)               1\n",
              "진민호                     1\n",
              "송가인                     1\n",
              "지코 (ZICO)               1\n",
              "EXO                     1\n",
              "KCM                     1\n",
              "가호 (Gaho)               1\n",
              "이예준                     1\n",
              "Billie Eilish           1\n",
              "오반                      1\n",
              "김필                      1\n",
              "New Hope Club           1\n",
              "Idina Menzel            1\n",
              "찬열 (CHANYEOL)           1\n",
              "백지영                     1\n",
              "노을                      1\n",
              "Name: 아티스트, dtype: int64"
            ]
          },
          "metadata": {
            "tags": []
          },
          "execution_count": 34
        }
      ]
    },
    {
      "cell_type": "code",
      "metadata": {
        "id": "MSIGrz6rnXHh",
        "colab_type": "code",
        "outputId": "2bf46417-635a-478f-bc69-59caa510f22a",
        "colab": {
          "base_uri": "https://localhost:8080/",
          "height": 1000
        }
      },
      "source": [
        "# normalize 옵션 : 전체에서 차지하는 비율을 계산해줌\n",
        "melon100_df[\"아티스트\"].value_counts(normalize=True)"
      ],
      "execution_count": 0,
      "outputs": [
        {
          "output_type": "execute_result",
          "data": {
            "text/plain": [
              "방탄소년단                  0.16\n",
              "IZ*ONE (아이즈원)          0.06\n",
              "창모 (CHANGMO)           0.04\n",
              "아이유                    0.03\n",
              "폴킴                     0.03\n",
              "V.O.S                  0.03\n",
              "송하예                    0.02\n",
              "Anne-Marie             0.02\n",
              "거미                     0.02\n",
              "백현 (BAEKHYUN)          0.02\n",
              "백예린                    0.02\n",
              "황인욱                    0.02\n",
              "HYNN (박혜원)             0.02\n",
              "마크툽 (MAKTUB)           0.02\n",
              "다비치                    0.02\n",
              "임재현                    0.02\n",
              "전상근                    0.02\n",
              "김재환                    0.01\n",
              "AKMU (악동뮤지션)           0.01\n",
              "태연 (TAEYEON)           0.01\n",
              "Conan Gray             0.01\n",
              "장덕철                    0.01\n",
              "바이브                    0.01\n",
              "Jeremy Zucker          0.01\n",
              "윤미래                    0.01\n",
              "장범준                    0.01\n",
              "개코                     0.01\n",
              "잔나비                    0.01\n",
              "이승철                    0.01\n",
              "Red Velvet (레드벨벳)      0.01\n",
              "하현우 (국카스텐)             0.01\n",
              "신예영                    0.01\n",
              "Crush                  0.01\n",
              "Arizona Zervas         0.01\n",
              "마마무 (Mamamoo)          0.01\n",
              "Ruel                   0.01\n",
              "먼데이 키즈 (Monday Kiz)    0.01\n",
              "청하                     0.01\n",
              "Shawn Mendes           0.01\n",
              "김나영                    0.01\n",
              "씨야                     0.01\n",
              "에이치코드 (H:CODE)         0.01\n",
              "염따                     0.01\n",
              "Lauv                   0.01\n",
              "육성재 (비투비)              0.01\n",
              "진민호                    0.01\n",
              "송가인                    0.01\n",
              "지코 (ZICO)              0.01\n",
              "EXO                    0.01\n",
              "KCM                    0.01\n",
              "가호 (Gaho)              0.01\n",
              "이예준                    0.01\n",
              "Billie Eilish          0.01\n",
              "오반                     0.01\n",
              "김필                     0.01\n",
              "New Hope Club          0.01\n",
              "Idina Menzel           0.01\n",
              "찬열 (CHANYEOL)          0.01\n",
              "백지영                    0.01\n",
              "노을                     0.01\n",
              "Name: 아티스트, dtype: float64"
            ]
          },
          "metadata": {
            "tags": []
          },
          "execution_count": 35
        }
      ]
    },
    {
      "cell_type": "code",
      "metadata": {
        "id": "xVHqnTOqnpzu",
        "colab_type": "code",
        "outputId": "d01e76d4-3546-4d2b-dc6a-20a10f807c41",
        "colab": {
          "base_uri": "https://localhost:8080/",
          "height": 289
        }
      },
      "source": [
        "# top 15 개 추출\n",
        "artist_top_15 = melon100_df[\"아티스트\"].value_counts().head(15)\n",
        "print(artist_top_15)"
      ],
      "execution_count": 0,
      "outputs": [
        {
          "output_type": "stream",
          "text": [
            "방탄소년단            16\n",
            "IZ*ONE (아이즈원)     6\n",
            "창모 (CHANGMO)      4\n",
            "아이유               3\n",
            "폴킴                3\n",
            "V.O.S             3\n",
            "송하예               2\n",
            "Anne-Marie        2\n",
            "거미                2\n",
            "백현 (BAEKHYUN)     2\n",
            "백예린               2\n",
            "황인욱               2\n",
            "HYNN (박혜원)        2\n",
            "마크툽 (MAKTUB)      2\n",
            "다비치               2\n",
            "Name: 아티스트, dtype: int64\n"
          ],
          "name": "stdout"
        }
      ]
    },
    {
      "cell_type": "code",
      "metadata": {
        "id": "qC-9c-DqtP6n",
        "colab_type": "code",
        "colab": {}
      },
      "source": [
        "import platform\n",
        "import matplotlib.pyplot as plt\n",
        "from matplotlib import font_manager, rc \n",
        "\n",
        "#platform.system()\n",
        "rc('font', family='NanumBarunGothic')"
      ],
      "execution_count": 0,
      "outputs": []
    },
    {
      "cell_type": "code",
      "metadata": {
        "id": "pRfTOMfkomBx",
        "colab_type": "code",
        "outputId": "0ed42e11-aa12-4961-ede3-d7c18c2ab644",
        "colab": {
          "base_uri": "https://localhost:8080/",
          "height": 428
        }
      },
      "source": [
        "artist_top_15.plot.pie(figsize=(7,7))"
      ],
      "execution_count": 0,
      "outputs": [
        {
          "output_type": "execute_result",
          "data": {
            "text/plain": [
              "<matplotlib.axes._subplots.AxesSubplot at 0x7ff3b431cb70>"
            ]
          },
          "metadata": {
            "tags": []
          },
          "execution_count": 40
        },
        {
          "output_type": "display_data",
          "data": {
            "image/png": "[encoded data removed]",
            "text/plain": [
              "<Figure size 504x504 with 1 Axes>"
            ]
          },
          "metadata": {
            "tags": []
          }
        }
      ]
    },
    {
      "cell_type": "code",
      "metadata": {
        "id": "1kogz97CqCyX",
        "colab_type": "code",
        "outputId": "6401c3da-7675-4a16-9bea-0ef0527a52cb",
        "colab": {
          "base_uri": "https://localhost:8080/",
          "height": 282
        }
      },
      "source": [
        "artist_top_15.plot.barh()"
      ],
      "execution_count": 0,
      "outputs": [
        {
          "output_type": "execute_result",
          "data": {
            "text/plain": [
              "<matplotlib.axes._subplots.AxesSubplot at 0x7ff3b32abf98>"
            ]
          },
          "metadata": {
            "tags": []
          },
          "execution_count": 41
        },
        {
          "output_type": "display_data",
          "data": {
            "image/png": "[encoded data removed]",
            "text/plain": [
              "<Figure size 432x288 with 1 Axes>"
            ]
          },
          "metadata": {
            "tags": []
          }
        }
      ]
    },
    {
      "cell_type": "code",
      "metadata": {
        "id": "nKvv8konqKvD",
        "colab_type": "code",
        "outputId": "c73c926d-e7a4-40f0-d0a0-c238c61a0a63",
        "colab": {
          "base_uri": "https://localhost:8080/",
          "height": 298
        }
      },
      "source": [
        "## 데이터 요약하기 : seaborn 으로 빈도수 시각화하기\n",
        "import seaborn as sns\n",
        "\n",
        "sns.countplot(data = melon100_df, y = \"아티스트\")"
      ],
      "execution_count": 0,
      "outputs": [
        {
          "output_type": "execute_result",
          "data": {
            "text/plain": [
              "<matplotlib.axes._subplots.AxesSubplot at 0x7ff3a83015f8>"
            ]
          },
          "metadata": {
            "tags": []
          },
          "execution_count": 46
        },
        {
          "output_type": "display_data",
          "data": {
            "image/png": "[encoded data removed]",
            "text/plain": [
              "<Figure size 432x288 with 1 Axes>"
            ]
          },
          "metadata": {
            "tags": []
          }
        }
      ]
    },
    {
      "cell_type": "code",
      "metadata": {
        "id": "VvXiQYU0wyVE",
        "colab_type": "code",
        "outputId": "d101a5b2-e7f1-41b7-f9e8-a7672486ad81",
        "colab": {
          "base_uri": "https://localhost:8080/",
          "height": 554
        }
      },
      "source": [
        "c = melon100_df[\"아티스트\"].value_counts().head(15)\n",
        "print(c)\n",
        "c.plot.barh()"
      ],
      "execution_count": 0,
      "outputs": [
        {
          "output_type": "stream",
          "text": [
            "방탄소년단            16\n",
            "IZ*ONE (아이즈원)     6\n",
            "창모 (CHANGMO)      4\n",
            "아이유               3\n",
            "폴킴                3\n",
            "V.O.S             3\n",
            "송하예               2\n",
            "Anne-Marie        2\n",
            "거미                2\n",
            "백현 (BAEKHYUN)     2\n",
            "백예린               2\n",
            "황인욱               2\n",
            "HYNN (박혜원)        2\n",
            "마크툽 (MAKTUB)      2\n",
            "다비치               2\n",
            "Name: 아티스트, dtype: int64\n"
          ],
          "name": "stdout"
        },
        {
          "output_type": "execute_result",
          "data": {
            "text/plain": [
              "<matplotlib.axes._subplots.AxesSubplot at 0x7ff3a7e46860>"
            ]
          },
          "metadata": {
            "tags": []
          },
          "execution_count": 50
        },
        {
          "output_type": "display_data",
          "data": {
            "image/png": "[encoded data removed]",
            "text/plain": [
              "<Figure size 432x288 with 1 Axes>"
            ]
          },
          "metadata": {
            "tags": []
          }
        }
      ]
    },
    {
      "cell_type": "code",
      "metadata": {
        "id": "17bJHolnxC-i",
        "colab_type": "code",
        "outputId": "2864c6cc-cdec-4648-de71-c011959623aa",
        "colab": {
          "base_uri": "https://localhost:8080/",
          "height": 500
        }
      },
      "source": [
        "c.plot.barh(figsize=(7,8), grid=True)"
      ],
      "execution_count": 0,
      "outputs": [
        {
          "output_type": "execute_result",
          "data": {
            "text/plain": [
              "<matplotlib.axes._subplots.AxesSubplot at 0x7ff3a7db00f0>"
            ]
          },
          "metadata": {
            "tags": []
          },
          "execution_count": 52
        },
        {
          "output_type": "display_data",
          "data": {
            "image/png": "[encoded data removed]",
            "text/plain": [
              "<Figure size 504x576 with 1 Axes>"
            ]
          },
          "metadata": {
            "tags": []
          }
        }
      ]
    },
    {
      "cell_type": "code",
      "metadata": {
        "id": "ErhtVM-WxQ5k",
        "colab_type": "code",
        "outputId": "beaddde1-1423-4a97-f1d1-4e5c7a68d7d1",
        "colab": {
          "base_uri": "https://localhost:8080/",
          "height": 348
        }
      },
      "source": [
        "c.plot.bar(rot=60)"
      ],
      "execution_count": 0,
      "outputs": [
        {
          "output_type": "execute_result",
          "data": {
            "text/plain": [
              "<matplotlib.axes._subplots.AxesSubplot at 0x7ff3a794e978>"
            ]
          },
          "metadata": {
            "tags": []
          },
          "execution_count": 55
        },
        {
          "output_type": "display_data",
          "data": {
            "image/png": "[encoded data removed]",
            "text/plain": [
              "<Figure size 432x288 with 1 Axes>"
            ]
          },
          "metadata": {
            "tags": []
          }
        }
      ]
    },
    {
      "cell_type": "code",
      "metadata": {
        "id": "dIn7wc2ZxUzV",
        "colab_type": "code",
        "outputId": "030ad411-a868-4b96-a409-e3d0d57ea973",
        "colab": {
          "base_uri": "https://localhost:8080/",
          "height": 265
        }
      },
      "source": [
        "c.plot.pie()"
      ],
      "execution_count": 0,
      "outputs": [
        {
          "output_type": "execute_result",
          "data": {
            "text/plain": [
              "<matplotlib.axes._subplots.AxesSubplot at 0x7ff3a7c23f60>"
            ]
          },
          "metadata": {
            "tags": []
          },
          "execution_count": 54
        },
        {
          "output_type": "display_data",
          "data": {
            "image/png": "[encoded data removed]",
            "text/plain": [
              "<Figure size 432x288 with 1 Axes>"
            ]
          },
          "metadata": {
            "tags": []
          }
        }
      ]
    }
  ]
}