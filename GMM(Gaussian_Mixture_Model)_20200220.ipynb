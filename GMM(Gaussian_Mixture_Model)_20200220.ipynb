{
  "nbformat": 4,
  "nbformat_minor": 0,
  "metadata": {
    "colab": {
      "name": "GMM(Gaussian Mixture Model)_20200220.ipynb",
      "provenance": [],
      "authorship_tag": "ABX9TyPE6uKPu35arcMkWT1+iDku",
      "include_colab_link": true
    },
    "kernelspec": {
      "name": "python3",
      "display_name": "Python 3"
    }
  },
  "cells": [
    {
      "cell_type": "markdown",
      "metadata": {
        "id": "view-in-github",
        "colab_type": "text"
      },
      "source": [
        "<a href=\"https://colab.research.google.com/github/mjcho1/Sample_python/blob/master/GMM(Gaussian_Mixture_Model)_20200220.ipynb\" target=\"_parent\"><img src=\"https://colab.research.google.com/assets/colab-badge.svg\" alt=\"Open In Colab\"/></a>"
      ]
    },
    {
      "cell_type": "code",
      "metadata": {
        "id": "5ahrj34ERyyx",
        "colab_type": "code",
        "colab": {
          "base_uri": "https://localhost:8080/",
          "height": 204
        },
        "outputId": "9005069f-b2c1-47d2-d521-d03c85ab2477"
      },
      "source": [
        "# GMM 을 이용한 붓꽃 데이터 세트 군집화\n",
        "from sklearn.datasets import load_iris\n",
        "from sklearn.cluster import KMeans\n",
        "\n",
        "import matplotlib.pyplot as plt\n",
        "import numpy as np\n",
        "import pandas as pd\n",
        "%matplotlib inline\n",
        "\n",
        "iris = load_iris()\n",
        "feature_names = ['sepal_length', 'sepal_width', 'petal_length', 'petal_width']\n",
        "\n",
        "# 좀 더 편리한 데이터 Handling을 위해 DataFrame으로 변환\n",
        "irisDF = pd.DataFrame(data=iris.data, columns=feature_names)\n",
        "irisDF['target']=iris.target\n",
        "irisDF.head(5)"
      ],
      "execution_count": null,
      "outputs": [
        {
          "output_type": "execute_result",
          "data": {
            "text/html": [
              "<div>\n",
              "<style scoped>\n",
              "    .dataframe tbody tr th:only-of-type {\n",
              "        vertical-align: middle;\n",
              "    }\n",
              "\n",
              "    .dataframe tbody tr th {\n",
              "        vertical-align: top;\n",
              "    }\n",
              "\n",
              "    .dataframe thead th {\n",
              "        text-align: right;\n",
              "    }\n",
              "</style>\n",
              "<table border=\"1\" class=\"dataframe\">\n",
              "  <thead>\n",
              "    <tr style=\"text-align: right;\">\n",
              "      <th></th>\n",
              "      <th>sepal_length</th>\n",
              "      <th>sepal_width</th>\n",
              "      <th>petal_length</th>\n",
              "      <th>petal_width</th>\n",
              "      <th>target</th>\n",
              "    </tr>\n",
              "  </thead>\n",
              "  <tbody>\n",
              "    <tr>\n",
              "      <th>0</th>\n",
              "      <td>5.1</td>\n",
              "      <td>3.5</td>\n",
              "      <td>1.4</td>\n",
              "      <td>0.2</td>\n",
              "      <td>0</td>\n",
              "    </tr>\n",
              "    <tr>\n",
              "      <th>1</th>\n",
              "      <td>4.9</td>\n",
              "      <td>3.0</td>\n",
              "      <td>1.4</td>\n",
              "      <td>0.2</td>\n",
              "      <td>0</td>\n",
              "    </tr>\n",
              "    <tr>\n",
              "      <th>2</th>\n",
              "      <td>4.7</td>\n",
              "      <td>3.2</td>\n",
              "      <td>1.3</td>\n",
              "      <td>0.2</td>\n",
              "      <td>0</td>\n",
              "    </tr>\n",
              "    <tr>\n",
              "      <th>3</th>\n",
              "      <td>4.6</td>\n",
              "      <td>3.1</td>\n",
              "      <td>1.5</td>\n",
              "      <td>0.2</td>\n",
              "      <td>0</td>\n",
              "    </tr>\n",
              "    <tr>\n",
              "      <th>4</th>\n",
              "      <td>5.0</td>\n",
              "      <td>3.6</td>\n",
              "      <td>1.4</td>\n",
              "      <td>0.2</td>\n",
              "      <td>0</td>\n",
              "    </tr>\n",
              "  </tbody>\n",
              "</table>\n",
              "</div>"
            ],
            "text/plain": [
              "   sepal_length  sepal_width  petal_length  petal_width  target\n",
              "0           5.1          3.5           1.4          0.2       0\n",
              "1           4.9          3.0           1.4          0.2       0\n",
              "2           4.7          3.2           1.3          0.2       0\n",
              "3           4.6          3.1           1.5          0.2       0\n",
              "4           5.0          3.6           1.4          0.2       0"
            ]
          },
          "metadata": {
            "tags": []
          },
          "execution_count": 4
        }
      ]
    },
    {
      "cell_type": "code",
      "metadata": {
        "id": "Fodef_JMSr3P",
        "colab_type": "code",
        "colab": {
          "base_uri": "https://localhost:8080/",
          "height": 312
        },
        "outputId": "6644b52d-84ac-43da-e4df-7c6af85a0533"
      },
      "source": [
        "from sklearn.mixture import GaussianMixture\n",
        "\n",
        "# n_components : gaussian mixture 의 모델의 총 개수\n",
        "gmm = GaussianMixture(n_components=3, random_state=0).fit(iris.data)\n",
        "gmm_cluster_labels = gmm.predict(iris.data)\n",
        "\n",
        "# 군집화 결과를 irisDF 의 'gmm_cluster' 칼럼 명으로 저장\n",
        "irisDF['gmm_cluster'] = gmm_cluster_labels\n",
        "irisDF['target'] = iris.target\n",
        "\n",
        "# target 값에 따라 gmm_cluster 값이 어떻게 매핑됐는지 확인.\n",
        "iris_result = irisDF.groupby(['target'])['gmm_cluster'].value_counts()\n",
        "print(iris_result)\n",
        "irisDF.head(5)"
      ],
      "execution_count": null,
      "outputs": [
        {
          "output_type": "stream",
          "text": [
            "target  gmm_cluster\n",
            "0       0              50\n",
            "1       1              45\n",
            "        2               5\n",
            "2       2              50\n",
            "Name: gmm_cluster, dtype: int64\n"
          ],
          "name": "stdout"
        },
        {
          "output_type": "execute_result",
          "data": {
            "text/html": [
              "<div>\n",
              "<style scoped>\n",
              "    .dataframe tbody tr th:only-of-type {\n",
              "        vertical-align: middle;\n",
              "    }\n",
              "\n",
              "    .dataframe tbody tr th {\n",
              "        vertical-align: top;\n",
              "    }\n",
              "\n",
              "    .dataframe thead th {\n",
              "        text-align: right;\n",
              "    }\n",
              "</style>\n",
              "<table border=\"1\" class=\"dataframe\">\n",
              "  <thead>\n",
              "    <tr style=\"text-align: right;\">\n",
              "      <th></th>\n",
              "      <th>sepal_length</th>\n",
              "      <th>sepal_width</th>\n",
              "      <th>petal_length</th>\n",
              "      <th>petal_width</th>\n",
              "      <th>target</th>\n",
              "      <th>gmm_cluster</th>\n",
              "    </tr>\n",
              "  </thead>\n",
              "  <tbody>\n",
              "    <tr>\n",
              "      <th>0</th>\n",
              "      <td>5.1</td>\n",
              "      <td>3.5</td>\n",
              "      <td>1.4</td>\n",
              "      <td>0.2</td>\n",
              "      <td>0</td>\n",
              "      <td>0</td>\n",
              "    </tr>\n",
              "    <tr>\n",
              "      <th>1</th>\n",
              "      <td>4.9</td>\n",
              "      <td>3.0</td>\n",
              "      <td>1.4</td>\n",
              "      <td>0.2</td>\n",
              "      <td>0</td>\n",
              "      <td>0</td>\n",
              "    </tr>\n",
              "    <tr>\n",
              "      <th>2</th>\n",
              "      <td>4.7</td>\n",
              "      <td>3.2</td>\n",
              "      <td>1.3</td>\n",
              "      <td>0.2</td>\n",
              "      <td>0</td>\n",
              "      <td>0</td>\n",
              "    </tr>\n",
              "    <tr>\n",
              "      <th>3</th>\n",
              "      <td>4.6</td>\n",
              "      <td>3.1</td>\n",
              "      <td>1.5</td>\n",
              "      <td>0.2</td>\n",
              "      <td>0</td>\n",
              "      <td>0</td>\n",
              "    </tr>\n",
              "    <tr>\n",
              "      <th>4</th>\n",
              "      <td>5.0</td>\n",
              "      <td>3.6</td>\n",
              "      <td>1.4</td>\n",
              "      <td>0.2</td>\n",
              "      <td>0</td>\n",
              "      <td>0</td>\n",
              "    </tr>\n",
              "  </tbody>\n",
              "</table>\n",
              "</div>"
            ],
            "text/plain": [
              "   sepal_length  sepal_width  petal_length  petal_width  target  gmm_cluster\n",
              "0           5.1          3.5           1.4          0.2       0            0\n",
              "1           4.9          3.0           1.4          0.2       0            0\n",
              "2           4.7          3.2           1.3          0.2       0            0\n",
              "3           4.6          3.1           1.5          0.2       0            0\n",
              "4           5.0          3.6           1.4          0.2       0            0"
            ]
          },
          "metadata": {
            "tags": []
          },
          "execution_count": 8
        }
      ]
    },
    {
      "cell_type": "code",
      "metadata": {
        "id": "yEwd3dfHTzv_",
        "colab_type": "code",
        "colab": {
          "base_uri": "https://localhost:8080/",
          "height": 330
        },
        "outputId": "eb492f1e-d663-4af4-c998-ca85de928a70"
      },
      "source": [
        "kmeans = KMeans(n_clusters=3, init='k-means++', max_iter=300, random_state=0).fit(iris.data)\n",
        "kmeans_cluster_labels = kmeans.predict(iris.data)\n",
        "irisDF['kmeans_cluster'] = kmeans_cluster_labels\n",
        "iris_result = irisDF.groupby(['target'])['kmeans_cluster'].value_counts()\n",
        "print(iris_result)\n",
        "irisDF.head(5)"
      ],
      "execution_count": null,
      "outputs": [
        {
          "output_type": "stream",
          "text": [
            "target  kmeans_cluster\n",
            "0       1                 50\n",
            "1       2                 48\n",
            "        0                  2\n",
            "2       0                 36\n",
            "        2                 14\n",
            "Name: kmeans_cluster, dtype: int64\n"
          ],
          "name": "stdout"
        },
        {
          "output_type": "execute_result",
          "data": {
            "text/html": [
              "<div>\n",
              "<style scoped>\n",
              "    .dataframe tbody tr th:only-of-type {\n",
              "        vertical-align: middle;\n",
              "    }\n",
              "\n",
              "    .dataframe tbody tr th {\n",
              "        vertical-align: top;\n",
              "    }\n",
              "\n",
              "    .dataframe thead th {\n",
              "        text-align: right;\n",
              "    }\n",
              "</style>\n",
              "<table border=\"1\" class=\"dataframe\">\n",
              "  <thead>\n",
              "    <tr style=\"text-align: right;\">\n",
              "      <th></th>\n",
              "      <th>sepal_length</th>\n",
              "      <th>sepal_width</th>\n",
              "      <th>petal_length</th>\n",
              "      <th>petal_width</th>\n",
              "      <th>target</th>\n",
              "      <th>gmm_cluster</th>\n",
              "      <th>kmeans_cluster</th>\n",
              "    </tr>\n",
              "  </thead>\n",
              "  <tbody>\n",
              "    <tr>\n",
              "      <th>0</th>\n",
              "      <td>5.1</td>\n",
              "      <td>3.5</td>\n",
              "      <td>1.4</td>\n",
              "      <td>0.2</td>\n",
              "      <td>0</td>\n",
              "      <td>0</td>\n",
              "      <td>1</td>\n",
              "    </tr>\n",
              "    <tr>\n",
              "      <th>1</th>\n",
              "      <td>4.9</td>\n",
              "      <td>3.0</td>\n",
              "      <td>1.4</td>\n",
              "      <td>0.2</td>\n",
              "      <td>0</td>\n",
              "      <td>0</td>\n",
              "      <td>1</td>\n",
              "    </tr>\n",
              "    <tr>\n",
              "      <th>2</th>\n",
              "      <td>4.7</td>\n",
              "      <td>3.2</td>\n",
              "      <td>1.3</td>\n",
              "      <td>0.2</td>\n",
              "      <td>0</td>\n",
              "      <td>0</td>\n",
              "      <td>1</td>\n",
              "    </tr>\n",
              "    <tr>\n",
              "      <th>3</th>\n",
              "      <td>4.6</td>\n",
              "      <td>3.1</td>\n",
              "      <td>1.5</td>\n",
              "      <td>0.2</td>\n",
              "      <td>0</td>\n",
              "      <td>0</td>\n",
              "      <td>1</td>\n",
              "    </tr>\n",
              "    <tr>\n",
              "      <th>4</th>\n",
              "      <td>5.0</td>\n",
              "      <td>3.6</td>\n",
              "      <td>1.4</td>\n",
              "      <td>0.2</td>\n",
              "      <td>0</td>\n",
              "      <td>0</td>\n",
              "      <td>1</td>\n",
              "    </tr>\n",
              "  </tbody>\n",
              "</table>\n",
              "</div>"
            ],
            "text/plain": [
              "   sepal_length  sepal_width  petal_length  ...  target  gmm_cluster  kmeans_cluster\n",
              "0           5.1          3.5           1.4  ...       0            0               1\n",
              "1           4.9          3.0           1.4  ...       0            0               1\n",
              "2           4.7          3.2           1.3  ...       0            0               1\n",
              "3           4.6          3.1           1.5  ...       0            0               1\n",
              "4           5.0          3.6           1.4  ...       0            0               1\n",
              "\n",
              "[5 rows x 7 columns]"
            ]
          },
          "metadata": {
            "tags": []
          },
          "execution_count": 11
        }
      ]
    },
    {
      "cell_type": "code",
      "metadata": {
        "id": "8z6RtQ3vWn2A",
        "colab_type": "code",
        "colab": {}
      },
      "source": [
        "### 클러스터 결과를 담은 DataFrame과 사이킷런의 Cluster 객체등을 인자로 받아 클러스터링 결과를 시각화하는 함수\n",
        "  \n",
        "def visualize_cluster_plot(clusterobj, dataframe, label_name, iscenter=True):\n",
        "    if iscenter :\n",
        "        centers = clusterobj.cluster_centers_\n",
        "        \n",
        "    unique_labels = np.unique(dataframe[label_name].values)\n",
        "    markers=['o', 's', '^', 'x', '*']\n",
        "    isNoise=False\n",
        "\n",
        "    for label in unique_labels:\n",
        "        label_cluster = dataframe[dataframe[label_name]==label]\n",
        "        if label == -1:\n",
        "            cluster_legend = 'Noise'\n",
        "            isNoise=True\n",
        "        else :\n",
        "            cluster_legend = 'Cluster '+str(label)\n",
        "        \n",
        "        plt.scatter(x=label_cluster['ftr1'], y=label_cluster['ftr2'], s=70,\\\n",
        "                    edgecolor='k', marker=markers[label], label=cluster_legend)\n",
        "        \n",
        "        if iscenter:\n",
        "            center_x_y = centers[label]\n",
        "            plt.scatter(x=center_x_y[0], y=center_x_y[1], s=250, color='white',\n",
        "                        alpha=0.9, edgecolor='k', marker=markers[label])\n",
        "            plt.scatter(x=center_x_y[0], y=center_x_y[1], s=70, color='k',\\\n",
        "                        edgecolor='k', marker='$%d$' % label)\n",
        "    if isNoise:\n",
        "        legend_loc='upper center'\n",
        "    else: legend_loc='upper right'\n",
        "    \n",
        "    plt.legend(loc=legend_loc)\n",
        "    plt.show()"
      ],
      "execution_count": null,
      "outputs": []
    },
    {
      "cell_type": "code",
      "metadata": {
        "id": "nVRwg05IUgeE",
        "colab_type": "code",
        "colab": {
          "base_uri": "https://localhost:8080/",
          "height": 266
        },
        "outputId": "8f210e8b-51c2-4b38-cdc6-4365566725cf"
      },
      "source": [
        "# GMM 과 K-평균의 비교\n",
        "from sklearn.datasets import make_blobs\n",
        "\n",
        "# make_blobs() 로 300개의 데이터 세트, 3개의 군집 세트, cluster_std = 0.5를 만듦\n",
        "X,y = make_blobs(n_samples=300, n_features=2, centers=3, cluster_std=0.5, random_state=0)\n",
        "\n",
        "# 길게 늘어난 타원형의 데이터 세트를 생성하기 위해 변환함.\n",
        "transformation = [[0.60834549, -0.63667341], [-0.40887718, 0.85253229]]\n",
        "X_aniso = np.dot(X, transformation)\n",
        "\n",
        "# feature 데이터 세트와 make_blobs() 의 y 결과값을 DataFrame 으로 저장\n",
        "clusterDF = pd.DataFrame(data=X_aniso, columns=['ftr1', 'ftr2'])\n",
        "clusterDF['target']=y\n",
        "clusterDF.head(5)\n",
        "\n",
        "# 생성된 데이터 세트를 target 별로 다른 마커로 표시해 시각화함\n",
        "# def visualize_cluster_plot(clusterobj, dataframe, label_name, iscenter=True)\n",
        "visualize_cluster_plot(None, clusterDF, 'target', iscenter=False)"
      ],
      "execution_count": null,
      "outputs": [
        {
          "output_type": "display_data",
          "data": {
            "image/png": "[encoded data removed]",
            "text/plain": [
              "<Figure size 432x288 with 1 Axes>"
            ]
          },
          "metadata": {
            "tags": []
          }
        }
      ]
    },
    {
      "cell_type": "code",
      "metadata": {
        "id": "Ax7nzV1CXop5",
        "colab_type": "code",
        "colab": {
          "base_uri": "https://localhost:8080/",
          "height": 265
        },
        "outputId": "d7cfd7e8-92e4-45c0-ceb6-92144d4e6ae7"
      },
      "source": [
        "# 3개의 군집 기반 Kmeans 를 X_aniso 데이터 세트에 적용\n",
        "kmeans = KMeans(3, random_state=0)\n",
        "kmeans_label = kmeans.fit_predict(X_aniso)\n",
        "clusterDF['kmeans_label'] = kmeans_label\n",
        "clusterDF.head(5)\n",
        "\n",
        "visualize_cluster_plot(kmeans, clusterDF, 'kmeans_label', iscenter=True)"
      ],
      "execution_count": null,
      "outputs": [
        {
          "output_type": "display_data",
          "data": {
            "image/png": "[encoded data removed]",
            "text/plain": [
              "<Figure size 432x288 with 1 Axes>"
            ]
          },
          "metadata": {
            "tags": []
          }
        }
      ]
    },
    {
      "cell_type": "code",
      "metadata": {
        "id": "uO23gEQGZl5Q",
        "colab_type": "code",
        "colab": {
          "base_uri": "https://localhost:8080/",
          "height": 265
        },
        "outputId": "4449fe1c-4f20-4db0-8ddb-e068822a0d8b"
      },
      "source": [
        "# 3개의 n_components기반 GMM을 X_aniso 데이터 셋에 적용 \n",
        "gmm = GaussianMixture(n_components=3, random_state=0)\n",
        "gmm_label = gmm.fit(X_aniso).predict(X_aniso)\n",
        "clusterDF['gmm_label'] = gmm_label\n",
        "clusterDF.head(5)\n",
        "\n",
        "# GaussianMixture는 cluster_centers_ 속성이 없으므로 iscenter를 False로 설정. \n",
        "visualize_cluster_plot(gmm, clusterDF, 'gmm_label',iscenter=False)"
      ],
      "execution_count": null,
      "outputs": [
        {
          "output_type": "display_data",
          "data": {
            "image/png": "[encoded data removed]",
            "text/plain": [
              "<Figure size 432x288 with 1 Axes>"
            ]
          },
          "metadata": {
            "tags": []
          }
        }
      ]
    },
    {
      "cell_type": "code",
      "metadata": {
        "id": "DzEkRh0Aath3",
        "colab_type": "code",
        "colab": {
          "base_uri": "https://localhost:8080/",
          "height": 287
        },
        "outputId": "cc1e418b-5621-45c6-c25c-07c4b7dc50ca"
      },
      "source": [
        "print('### KMeans Clustering ###')\n",
        "print(clusterDF.groupby('target')['kmeans_label'].value_counts())\n",
        "print('\\n### Gaussian Mixture Clustering ###')\n",
        "print(clusterDF.groupby('target')['gmm_label'].value_counts())"
      ],
      "execution_count": null,
      "outputs": [
        {
          "output_type": "stream",
          "text": [
            "### KMeans Clustering ###\n",
            "target  kmeans_label\n",
            "0       2                73\n",
            "        0                27\n",
            "1       1               100\n",
            "2       0                86\n",
            "        2                14\n",
            "Name: kmeans_label, dtype: int64\n",
            "\n",
            "### Gaussian Mixture Clustering ###\n",
            "target  gmm_label\n",
            "0       2            100\n",
            "1       1            100\n",
            "2       0            100\n",
            "Name: gmm_label, dtype: int64\n"
          ],
          "name": "stdout"
        }
      ]
    }
  ]
}