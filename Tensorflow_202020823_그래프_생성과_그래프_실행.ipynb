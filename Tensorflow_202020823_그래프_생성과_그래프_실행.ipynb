{
  "nbformat": 4,
  "nbformat_minor": 0,
  "metadata": {
    "colab": {
      "name": "Tensorflow_202020823_그래프 생성과 그래프 실행.ipynb",
      "provenance": [],
      "authorship_tag": "ABX9TyMz7TPwkeBKK/Q069z5Ueik",
      "include_colab_link": true
    },
    "kernelspec": {
      "name": "python3",
      "display_name": "Python 3"
    }
  },
  "cells": [
    {
      "cell_type": "markdown",
      "metadata": {
        "id": "view-in-github",
        "colab_type": "text"
      },
      "source": [
        "<a href=\"https://colab.research.google.com/github/mjcho1/sample_python/blob/master/Tensorflow_202020823_%EA%B7%B8%EB%9E%98%ED%94%84_%EC%83%9D%EC%84%B1%EA%B3%BC_%EA%B7%B8%EB%9E%98%ED%94%84_%EC%8B%A4%ED%96%89.ipynb\" target=\"_parent\"><img src=\"https://colab.research.google.com/assets/colab-badge.svg\" alt=\"Open In Colab\"/></a>"
      ]
    },
    {
      "cell_type": "code",
      "metadata": {
        "id": "n7w4wUhcr73I",
        "colab_type": "code",
        "colab": {
          "base_uri": "https://localhost:8080/",
          "height": 51
        },
        "outputId": "1f83b047-6ee1-44a8-fd9f-968fe7a6d4ec"
      },
      "source": [
        "import tensorflow as tf\n",
        "# 그래프 노드를 정의하고 출력\n",
        "node1 = tf.constant(3.0, dtype=tf.float32)\n",
        "node2 = tf.constant(4.0)\n",
        "print(node1, node2)\n",
        "tf.print([node1,node2])"
      ],
      "execution_count": 13,
      "outputs": [
        {
          "output_type": "stream",
          "text": [
            "tf.Tensor(3.0, shape=(), dtype=float32) tf.Tensor(4.0, shape=(), dtype=float32)\n",
            "[3, 4]\n"
          ],
          "name": "stdout"
        }
      ]
    },
    {
      "cell_type": "code",
      "metadata": {
        "id": "qCH7gobItpDM",
        "colab_type": "code",
        "colab": {
          "base_uri": "https://localhost:8080/",
          "height": 51
        },
        "outputId": "78675c84-0a90-4b56-e031-c7409d446032"
      },
      "source": [
        "# 2개의 노드의 값을 더하는 연산을 수행하는 node3을 정의\n",
        "node3 = tf.add(node1, node2)\n",
        "print(\"node3:\",node3)\n",
        "tf.print(\"node3:\", node3)"
      ],
      "execution_count": 15,
      "outputs": [
        {
          "output_type": "stream",
          "text": [
            "node3: tf.Tensor(7.0, shape=(), dtype=float32)\n",
            "node3: 7\n"
          ],
          "name": "stdout"
        }
      ]
    },
    {
      "cell_type": "code",
      "metadata": {
        "id": "dcNpj_LBxzhT",
        "colab_type": "code",
        "colab": {
          "base_uri": "https://localhost:8080/",
          "height": 51
        },
        "outputId": "389703ba-1d4f-422f-ac95-366f8ed0d343"
      },
      "source": [
        "import tensorflow.compat.v1 as tf\n",
        "tf.disable_v2_behavior() \n",
        "\n",
        "# 플레이스홀더 노드와 add 노드를 정의\n",
        "a = tf.placeholder(tf.float32)\n",
        "b = tf.placeholder(tf.float32)\n",
        "adder_node = a + b\n",
        "\n",
        "# feed_dict를 선언하고, feed_dict 부분에 플레이스홀더 노드에 넣을 값을 지정\n",
        "sess = tf.Session()\n",
        "print(sess.run(adder_node, feed_dict={a:3,b:4.5}))\n",
        "print(sess.run(adder_node, feed_dict={a: [1,3], b: [2,4]}))"
      ],
      "execution_count": 19,
      "outputs": [
        {
          "output_type": "stream",
          "text": [
            "7.5\n",
            "[3. 7.]\n"
          ],
          "name": "stdout"
        }
      ]
    },
    {
      "cell_type": "code",
      "metadata": {
        "id": "qt3pQZqkz00-",
        "colab_type": "code",
        "colab": {
          "base_uri": "https://localhost:8080/",
          "height": 34
        },
        "outputId": "e528eb64-4899-4629-89d1-e1347814bb5c"
      },
      "source": [
        "# 노드를 추가해서 더 복잡한 그래프 형태를 만들어 봄\n",
        "# 출력값 : 22.5\n",
        "add_and_triple = adder_node * 3\n",
        "print(sess.run(add_and_triple, feed_dict={a: 3, b: 4.5}))\n",
        "sess.close()"
      ],
      "execution_count": 21,
      "outputs": [
        {
          "output_type": "stream",
          "text": [
            "22.5\n"
          ],
          "name": "stdout"
        }
      ]
    }
  ]
}